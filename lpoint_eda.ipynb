{
 "cells": [
  {
   "cell_type": "markdown",
   "id": "261a8a9b",
   "metadata": {},
   "source": [
    "기존 Lpoint\n",
    "- 제 4회 lpoint  \n",
    "  주제 : 스마트 라이프 큐레이터 (부제 : 고객의 니즈와 취향에 맞는 맞춤형 콘텐츠 제안)  \n",
    "  대상 주제 : 고객 맞춤형 정보를 통한 새로운 경험 제공, 제휴사 방문 편의성 향상   https://www.ajunews.com/view/20180228142940684\n",
    "  \n",
    "- 제6회  \n",
    "    잠재고객 맞춤 컨텐츠 추천  \n",
    "    1) 비식별 온라인 잠재고객의 행동/소비 패턴 생성    \n",
    "    2) AI 기반 고객 맞춤 상품 추천 알고리즘 도출  \n",
    "    \n",
    "    AI 기반 초개인화 컨텐츠 추천  \n",
    "    고객 행동 / 소비 컨텍스트 맞춤 컨텐츠 추천  \n",
    "    1) 빅데이터 기반 고객 성향 및 라이프 스타일 파악  \n",
    "    2) AI 기반 고객 행동 컨텍스트 맞춤 추천 알고리즘 도출  "
   ]
  },
  {
   "cell_type": "markdown",
   "id": "05dd67a1",
   "metadata": {},
   "source": [
    "Lpoint App\n",
    "\n",
    "결제, 제휴사 혜택, e쿠폰, 퍼즐 적립, 이벤트, 여행숙박, 엘플레이,  \n",
    "오늘의 미션, 클릭 바로적립, 참여적립, 바로적립, 포인트 기부, 영화 예매 순위, 사용처 안내\n",
    "\n",
    "\n",
    "-> 제휴사 혜택 및 이벤트 개인화  \n",
    "-> 일부 타겟에 대한 혜택 제안"
   ]
  },
  {
   "cell_type": "markdown",
   "id": "4cc99dbf",
   "metadata": {},
   "source": [
    "- 서드 파티 쿠키 제한  \n",
    "https://ditoday.com/%ED%8D%BC%EC%8A%A4%ED%8A%B8-%ED%8C%8C%ED%8B%B0-%EB%8D%B0%EC%9D%B4%ED%84%B0%EC%9D%98-%EC%A4%91%EC%9A%94%EC%84%B1%EA%B3%BC-%ED%99%9C%EC%9A%A9-%EC%82%AC%EB%A1%80/  \n",
    "https://bigin.io/contents/resource-detail?id=130&category=blog&utm_source=Di&utm_medium=btn&utm_campaign=acquisition-article&utm_content=id_143&utm_term=Di_subscriber  "
   ]
  },
  {
   "cell_type": "markdown",
   "id": "053b2c07",
   "metadata": {},
   "source": [
    "구독패스 상품  \n",
    "https://blog.rightbrain.co.kr/?p=13446  \n",
    "네이버페이 - 플러스 멤버십  \n",
    "네이버페이는 더 높은 적립 혜택과 디지털 콘텐츠를 앞세워 구독형 서비스인 네이버 플러스 멤버십을 제공하고 있습니다. 멤버십 고객은 네이버페이 결제 시, 최대 5%의 적립금을 받을 수 있으며 계열사의 디지털 콘텐츠를 무료로 이용할 수 있습니다. 뿐만 아니라, 최근에는 패밀리 멤버십을 출시해 결제 건수를 늘리고 고객과의 사슬을 더욱 단단히 묶었습니다.  \n",
    "\n",
    "Lpoint도 멤버십을 하는건 어떨까  \n",
    "- lpoint 검색해보면 적립율 낮다는 말도 많음, 구독 서비스를 통해 적립금 올려주고 맞춤형 멤버십 혜택도 제공한다면?  \n"
   ]
  },
  {
   "cell_type": "markdown",
   "id": "3f3e97cb",
   "metadata": {},
   "source": [
    "마케팅 관련  \n",
    "\n",
    "http://www.brandbrief.co.kr/news/articleView.html?idxno=4831  \n",
    "https://blog.rightbrain.co.kr/?p=13446  \n",
    "\n",
    "http://www.goodkyung.com/news/articleView.html?idxno=62965  "
   ]
  },
  {
   "cell_type": "code",
   "execution_count": 1,
   "id": "598280a5",
   "metadata": {},
   "outputs": [],
   "source": [
    "from glob import glob\n",
    "import pandas as pd\n",
    "import numpy as np\n",
    "import matplotlib.pyplot as plt\n",
    "from matplotlib import cm\n",
    "import seaborn as sns\n",
    "import matplotlib.font_manager as fm\n",
    "# plt.rc('font', family='AppleGothic') # for MAC OS users\n",
    "plt.rc('font', family=fm.FontProperties(fname=\"c:/Windows/Fonts/malgun.ttf\").get_name()) # for Windows OS user"
   ]
  },
  {
   "cell_type": "code",
   "execution_count": 2,
   "id": "3aa78976",
   "metadata": {},
   "outputs": [
    {
     "name": "stderr",
     "output_type": "stream",
     "text": [
      "C:\\Users\\USER\\anaconda3\\lib\\site-packages\\IPython\\core\\interactiveshell.py:3444: DtypeWarning: Columns (4) have mixed types.Specify dtype option on import or set low_memory=False.\n",
      "  exec(code_obj, self.user_global_ns, self.user_ns)\n"
     ]
    }
   ],
   "source": [
    "lst_data = glob('./data/*')\n",
    "var_data = ['cust_demo', 'prod_buy', 'service_use', 'prod_cat', 'partner', 'lpay']\n",
    "for name, file in zip(var_data, lst_data):\n",
    "    globals()[name] = pd.read_csv(file)"
   ]
  },
  {
   "cell_type": "code",
   "execution_count": 3,
   "id": "61d5be49",
   "metadata": {
    "scrolled": true
   },
   "outputs": [
    {
     "name": "stdout",
     "output_type": "stream",
     "text": [
      "cust_demo :  (29913, 4)\n",
      "prod_buy :  (4381743, 10)\n",
      "service_use :  (248304, 9)\n",
      "prod_cat :  (1933, 4)\n",
      "partner :  (8808, 4)\n",
      "lpay :  (353184, 7)\n"
     ]
    }
   ],
   "source": [
    "for name in var_data:\n",
    "    print(name, ': ', globals()[name].shape)"
   ]
  },
  {
   "cell_type": "code",
   "execution_count": 4,
   "id": "0cbb8e2e",
   "metadata": {
    "scrolled": true
   },
   "outputs": [
    {
     "name": "stdout",
     "output_type": "stream",
     "text": [
      "cust_demo :  cust, ma_fem_dv, ages, zon_hlv\n",
      "prod_buy :  cust, rct_no, chnl_dv, cop_c, br_c, pd_c, de_dt, de_hr, buy_am, buy_ct\n",
      "service_use :  cust, rct_no, cop_c, br_c, chnl_dv, de_dt, vst_dt, de_hr, buy_am\n",
      "prod_cat :  pd_c, pd_nm, clac_hlv_nm, clac_mcls_nm\n",
      "partner :  br_c, cop_c, zon_hlv, zon_mcls\n",
      "lpay :  cust, rct_no, cop_c, chnl_dv, de_dt, de_hr, buy_am\n"
     ]
    }
   ],
   "source": [
    "for name in var_data:\n",
    "    print(name, ': ', ', '.join(globals()[name].columns))"
   ]
  },
  {
   "cell_type": "markdown",
   "id": "ece4f4e1",
   "metadata": {},
   "source": [
    "### cust_demo\n",
    "cust: 고객 번호  \n",
    "ma_fem_dv: 성별  \n",
    "ages: 연령대(10대 단위 범주)  \n",
    "zon_hlv: 지역 대분류 코드  "
   ]
  },
  {
   "cell_type": "code",
   "execution_count": 5,
   "id": "d9ca28ad",
   "metadata": {},
   "outputs": [
    {
     "data": {
      "text/html": [
       "<div>\n",
       "<style scoped>\n",
       "    .dataframe tbody tr th:only-of-type {\n",
       "        vertical-align: middle;\n",
       "    }\n",
       "\n",
       "    .dataframe tbody tr th {\n",
       "        vertical-align: top;\n",
       "    }\n",
       "\n",
       "    .dataframe thead th {\n",
       "        text-align: right;\n",
       "    }\n",
       "</style>\n",
       "<table border=\"1\" class=\"dataframe\">\n",
       "  <thead>\n",
       "    <tr style=\"text-align: right;\">\n",
       "      <th></th>\n",
       "      <th>cust</th>\n",
       "      <th>ma_fem_dv</th>\n",
       "      <th>ages</th>\n",
       "      <th>zon_hlv</th>\n",
       "    </tr>\n",
       "  </thead>\n",
       "  <tbody>\n",
       "    <tr>\n",
       "      <th>0</th>\n",
       "      <td>M000034966</td>\n",
       "      <td>여성</td>\n",
       "      <td>40대</td>\n",
       "      <td>Z07</td>\n",
       "    </tr>\n",
       "    <tr>\n",
       "      <th>1</th>\n",
       "      <td>M000059535</td>\n",
       "      <td>여성</td>\n",
       "      <td>30대</td>\n",
       "      <td>Z12</td>\n",
       "    </tr>\n",
       "    <tr>\n",
       "      <th>2</th>\n",
       "      <td>M000136117</td>\n",
       "      <td>여성</td>\n",
       "      <td>30대</td>\n",
       "      <td>Z11</td>\n",
       "    </tr>\n",
       "    <tr>\n",
       "      <th>3</th>\n",
       "      <td>M000201112</td>\n",
       "      <td>여성</td>\n",
       "      <td>50대</td>\n",
       "      <td>Z17</td>\n",
       "    </tr>\n",
       "    <tr>\n",
       "      <th>4</th>\n",
       "      <td>M000225114</td>\n",
       "      <td>여성</td>\n",
       "      <td>40대</td>\n",
       "      <td>Z17</td>\n",
       "    </tr>\n",
       "    <tr>\n",
       "      <th>...</th>\n",
       "      <td>...</td>\n",
       "      <td>...</td>\n",
       "      <td>...</td>\n",
       "      <td>...</td>\n",
       "    </tr>\n",
       "    <tr>\n",
       "      <th>29908</th>\n",
       "      <td>M999708287</td>\n",
       "      <td>여성</td>\n",
       "      <td>40대</td>\n",
       "      <td>Z10</td>\n",
       "    </tr>\n",
       "    <tr>\n",
       "      <th>29909</th>\n",
       "      <td>M999770689</td>\n",
       "      <td>여성</td>\n",
       "      <td>30대</td>\n",
       "      <td>Z16</td>\n",
       "    </tr>\n",
       "    <tr>\n",
       "      <th>29910</th>\n",
       "      <td>M999849895</td>\n",
       "      <td>여성</td>\n",
       "      <td>20대</td>\n",
       "      <td>Z04</td>\n",
       "    </tr>\n",
       "    <tr>\n",
       "      <th>29911</th>\n",
       "      <td>M999926092</td>\n",
       "      <td>남성</td>\n",
       "      <td>30대</td>\n",
       "      <td>Z08</td>\n",
       "    </tr>\n",
       "    <tr>\n",
       "      <th>29912</th>\n",
       "      <td>M999962961</td>\n",
       "      <td>여성</td>\n",
       "      <td>50대</td>\n",
       "      <td>Z17</td>\n",
       "    </tr>\n",
       "  </tbody>\n",
       "</table>\n",
       "<p>29913 rows × 4 columns</p>\n",
       "</div>"
      ],
      "text/plain": [
       "             cust ma_fem_dv ages zon_hlv\n",
       "0      M000034966        여성  40대     Z07\n",
       "1      M000059535        여성  30대     Z12\n",
       "2      M000136117        여성  30대     Z11\n",
       "3      M000201112        여성  50대     Z17\n",
       "4      M000225114        여성  40대     Z17\n",
       "...           ...       ...  ...     ...\n",
       "29908  M999708287        여성  40대     Z10\n",
       "29909  M999770689        여성  30대     Z16\n",
       "29910  M999849895        여성  20대     Z04\n",
       "29911  M999926092        남성  30대     Z08\n",
       "29912  M999962961        여성  50대     Z17\n",
       "\n",
       "[29913 rows x 4 columns]"
      ]
     },
     "execution_count": 5,
     "metadata": {},
     "output_type": "execute_result"
    }
   ],
   "source": [
    "cust_demo"
   ]
  },
  {
   "cell_type": "code",
   "execution_count": 6,
   "id": "37bcb438",
   "metadata": {},
   "outputs": [
    {
     "name": "stdout",
     "output_type": "stream",
     "text": [
      "<class 'pandas.core.frame.DataFrame'>\n",
      "RangeIndex: 29913 entries, 0 to 29912\n",
      "Data columns (total 4 columns):\n",
      " #   Column     Non-Null Count  Dtype \n",
      "---  ------     --------------  ----- \n",
      " 0   cust       29913 non-null  object\n",
      " 1   ma_fem_dv  29913 non-null  object\n",
      " 2   ages       29913 non-null  object\n",
      " 3   zon_hlv    29913 non-null  object\n",
      "dtypes: object(4)\n",
      "memory usage: 934.9+ KB\n",
      "None\n"
     ]
    }
   ],
   "source": [
    "print(cust_demo.info())"
   ]
  },
  {
   "cell_type": "code",
   "execution_count": 7,
   "id": "c0c7a63c",
   "metadata": {},
   "outputs": [
    {
     "data": {
      "text/plain": [
       "29913"
      ]
     },
     "execution_count": 7,
     "metadata": {},
     "output_type": "execute_result"
    }
   ],
   "source": [
    "cust_demo['cust'].nunique()"
   ]
  },
  {
   "cell_type": "code",
   "execution_count": 8,
   "id": "fc70898f",
   "metadata": {},
   "outputs": [
    {
     "data": {
      "image/png": "[encoded data removed]",
      "text/plain": [
       "<Figure size 864x432 with 2 Axes>"
      ]
     },
     "metadata": {},
     "output_type": "display_data"
    }
   ],
   "source": [
    "fig, axes = plt.subplots(1,2, figsize=(12,6))\n",
    "\n",
    "colors1 = cm.get_cmap('Pastel1')(np.arange(2)) \n",
    "a = cust_demo['ma_fem_dv'].value_counts()\n",
    "\n",
    "axes[0].pie(a  ,                        \n",
    "       labels = a.index,           \n",
    "       autopct = '%.1f%%',          \n",
    "       startangle = 120 ,           \n",
    "       counterclock = False ,     \n",
    "       colors = colors1,      \n",
    "       wedgeprops ={'width':0.7 , 'edgecolor':'w','linewidth' : 2} , \n",
    "        shadow = False \n",
    "        )\n",
    "\n",
    "colors2 = cm.get_cmap('Pastel1')(np.arange(6))\n",
    "\n",
    "b =  cust_demo['ages'].value_counts()\n",
    "axes[1].pie(b ,                        \n",
    "       labels = b.index,           \n",
    "       autopct = '%.1f%%',          \n",
    "       startangle = 120 ,           \n",
    "       counterclock = False ,     \n",
    "       colors = colors2,      \n",
    "       wedgeprops ={'width':0.7 , 'edgecolor':'w','linewidth' : 2} , \n",
    "        shadow = False \n",
    "        )\n",
    "\n",
    "plt.show()\n",
    "\n"
   ]
  },
  {
   "cell_type": "code",
   "execution_count": 9,
   "id": "7d29a242",
   "metadata": {},
   "outputs": [
    {
     "data": {
      "image/png": "[encoded data removed]",
      "text/plain": [
       "<Figure size 432x288 with 1 Axes>"
      ]
     },
     "metadata": {
      "needs_background": "light"
     },
     "output_type": "display_data"
    }
   ],
   "source": [
    "pd.pivot_table(cust_demo, index = \"ma_fem_dv\", columns = \"ages\", values = \"cust\", aggfunc = \"count\").plot.bar()\n",
    "plt.show()"
   ]
  },
  {
   "cell_type": "code",
   "execution_count": 10,
   "id": "3f048da0",
   "metadata": {},
   "outputs": [
    {
     "data": {
      "image/png": "[encoded data removed]",
      "text/plain": [
       "<Figure size 432x288 with 1 Axes>"
      ]
     },
     "metadata": {
      "needs_background": "light"
     },
     "output_type": "display_data"
    }
   ],
   "source": [
    "cust_demo['zon_hlv'].value_counts().plot.bar()\n",
    "plt.show()"
   ]
  },
  {
   "cell_type": "code",
   "execution_count": 11,
   "id": "28e5d15d",
   "metadata": {},
   "outputs": [
    {
     "data": {
      "image/png": "[encoded data removed]",
      "text/plain": [
       "<Figure size 432x288 with 1 Axes>"
      ]
     },
     "metadata": {
      "needs_background": "light"
     },
     "output_type": "display_data"
    }
   ],
   "source": [
    "pd.pivot_table(cust_demo, index = \"zon_hlv\", columns = \"ma_fem_dv\", values = \"cust\", \n",
    "               aggfunc = \"count\").plot.bar(stacked = True)\n",
    "plt.show()"
   ]
  },
  {
   "cell_type": "code",
   "execution_count": 12,
   "id": "bb7ddbae",
   "metadata": {},
   "outputs": [
    {
     "data": {
      "image/png": "[encoded data removed]",
      "text/plain": [
       "<Figure size 432x288 with 1 Axes>"
      ]
     },
     "metadata": {
      "needs_background": "light"
     },
     "output_type": "display_data"
    }
   ],
   "source": [
    "pd.pivot_table(cust_demo, index = \"zon_hlv\", columns = \"ages\", values = \"cust\", \n",
    "               aggfunc = \"count\").plot.bar(stacked = True)\n",
    "plt.show()"
   ]
  },
  {
   "cell_type": "code",
   "execution_count": 13,
   "id": "d9301859",
   "metadata": {},
   "outputs": [
    {
     "data": {
      "image/png": "[encoded data removed]",
      "text/plain": [
       "<Figure size 432x288 with 1 Axes>"
      ]
     },
     "metadata": {
      "needs_background": "light"
     },
     "output_type": "display_data"
    }
   ],
   "source": [
    "pd.pivot_table(cust_demo, index = \"ages\", columns = \"zon_hlv\", values = \"cust\", \n",
    "               aggfunc = \"count\").plot.bar(stacked = True)\n",
    "plt.show()"
   ]
  },
  {
   "cell_type": "markdown",
   "id": "d59cf2ff",
   "metadata": {},
   "source": [
    "### prod_buy\n",
    "#### 유통사 상품 구매 내역\n",
    "cust: 고객 번호  \n",
    "rct_no: 영수증 번호  \n",
    "chnl_dv: 온라인/오프라인(1/2) 구분  \n",
    "cop_c: 제휴사 구분(유통사)  \n",
    "pd_c: 상품 코드  \n",
    "br_c: 점포 코드  \n",
    "de_dt: 구매 일자  \n",
    "de_hr: 구매 시간  \n",
    "buy_am: 구매 금액  \n",
    "buy_ct: 구매 수량  "
   ]
  },
  {
   "cell_type": "code",
   "execution_count": 14,
   "id": "d513e964",
   "metadata": {},
   "outputs": [
    {
     "data": {
      "text/html": [
       "<div>\n",
       "<style scoped>\n",
       "    .dataframe tbody tr th:only-of-type {\n",
       "        vertical-align: middle;\n",
       "    }\n",
       "\n",
       "    .dataframe tbody tr th {\n",
       "        vertical-align: top;\n",
       "    }\n",
       "\n",
       "    .dataframe thead th {\n",
       "        text-align: right;\n",
       "    }\n",
       "</style>\n",
       "<table border=\"1\" class=\"dataframe\">\n",
       "  <thead>\n",
       "    <tr style=\"text-align: right;\">\n",
       "      <th></th>\n",
       "      <th>cust</th>\n",
       "      <th>rct_no</th>\n",
       "      <th>chnl_dv</th>\n",
       "      <th>cop_c</th>\n",
       "      <th>br_c</th>\n",
       "      <th>pd_c</th>\n",
       "      <th>de_dt</th>\n",
       "      <th>de_hr</th>\n",
       "      <th>buy_am</th>\n",
       "      <th>buy_ct</th>\n",
       "    </tr>\n",
       "  </thead>\n",
       "  <tbody>\n",
       "    <tr>\n",
       "      <th>0</th>\n",
       "      <td>M430112881</td>\n",
       "      <td>A01000001113</td>\n",
       "      <td>1</td>\n",
       "      <td>A01</td>\n",
       "      <td>A010039</td>\n",
       "      <td>PD0290</td>\n",
       "      <td>20210101</td>\n",
       "      <td>10</td>\n",
       "      <td>15000.0</td>\n",
       "      <td>1</td>\n",
       "    </tr>\n",
       "    <tr>\n",
       "      <th>1</th>\n",
       "      <td>M646853852</td>\n",
       "      <td>A01000002265</td>\n",
       "      <td>1</td>\n",
       "      <td>A01</td>\n",
       "      <td>A010025</td>\n",
       "      <td>PD1369</td>\n",
       "      <td>20210101</td>\n",
       "      <td>10</td>\n",
       "      <td>79700.0</td>\n",
       "      <td>1</td>\n",
       "    </tr>\n",
       "    <tr>\n",
       "      <th>2</th>\n",
       "      <td>M430112881</td>\n",
       "      <td>A01000003148</td>\n",
       "      <td>1</td>\n",
       "      <td>A01</td>\n",
       "      <td>A010039</td>\n",
       "      <td>PD0290</td>\n",
       "      <td>20210101</td>\n",
       "      <td>10</td>\n",
       "      <td>19000.0</td>\n",
       "      <td>1</td>\n",
       "    </tr>\n",
       "    <tr>\n",
       "      <th>3</th>\n",
       "      <td>M430112881</td>\n",
       "      <td>A01000003148</td>\n",
       "      <td>1</td>\n",
       "      <td>A01</td>\n",
       "      <td>A010039</td>\n",
       "      <td>PD0290</td>\n",
       "      <td>20210101</td>\n",
       "      <td>10</td>\n",
       "      <td>19000.0</td>\n",
       "      <td>1</td>\n",
       "    </tr>\n",
       "    <tr>\n",
       "      <th>4</th>\n",
       "      <td>M430112881</td>\n",
       "      <td>A01000004946</td>\n",
       "      <td>1</td>\n",
       "      <td>A01</td>\n",
       "      <td>A010039</td>\n",
       "      <td>PD0290</td>\n",
       "      <td>20210101</td>\n",
       "      <td>10</td>\n",
       "      <td>19000.0</td>\n",
       "      <td>1</td>\n",
       "    </tr>\n",
       "    <tr>\n",
       "      <th>...</th>\n",
       "      <td>...</td>\n",
       "      <td>...</td>\n",
       "      <td>...</td>\n",
       "      <td>...</td>\n",
       "      <td>...</td>\n",
       "      <td>...</td>\n",
       "      <td>...</td>\n",
       "      <td>...</td>\n",
       "      <td>...</td>\n",
       "      <td>...</td>\n",
       "    </tr>\n",
       "    <tr>\n",
       "      <th>4381738</th>\n",
       "      <td>M533286446</td>\n",
       "      <td>E06052119978</td>\n",
       "      <td>2</td>\n",
       "      <td>A06</td>\n",
       "      <td>NaN</td>\n",
       "      <td>PD0507</td>\n",
       "      <td>20211231</td>\n",
       "      <td>23</td>\n",
       "      <td>50000.0</td>\n",
       "      <td>1</td>\n",
       "    </tr>\n",
       "    <tr>\n",
       "      <th>4381739</th>\n",
       "      <td>M533286446</td>\n",
       "      <td>E06052119978</td>\n",
       "      <td>2</td>\n",
       "      <td>A06</td>\n",
       "      <td>NaN</td>\n",
       "      <td>PD0507</td>\n",
       "      <td>20211231</td>\n",
       "      <td>23</td>\n",
       "      <td>50000.0</td>\n",
       "      <td>1</td>\n",
       "    </tr>\n",
       "    <tr>\n",
       "      <th>4381740</th>\n",
       "      <td>M533286446</td>\n",
       "      <td>E06052119978</td>\n",
       "      <td>2</td>\n",
       "      <td>A06</td>\n",
       "      <td>NaN</td>\n",
       "      <td>PD0507</td>\n",
       "      <td>20211231</td>\n",
       "      <td>23</td>\n",
       "      <td>50000.0</td>\n",
       "      <td>1</td>\n",
       "    </tr>\n",
       "    <tr>\n",
       "      <th>4381741</th>\n",
       "      <td>M533286446</td>\n",
       "      <td>E06052119978</td>\n",
       "      <td>2</td>\n",
       "      <td>A06</td>\n",
       "      <td>NaN</td>\n",
       "      <td>PD0507</td>\n",
       "      <td>20211231</td>\n",
       "      <td>23</td>\n",
       "      <td>50000.0</td>\n",
       "      <td>1</td>\n",
       "    </tr>\n",
       "    <tr>\n",
       "      <th>4381742</th>\n",
       "      <td>M533286446</td>\n",
       "      <td>E06052119978</td>\n",
       "      <td>2</td>\n",
       "      <td>A06</td>\n",
       "      <td>NaN</td>\n",
       "      <td>PD0507</td>\n",
       "      <td>20211231</td>\n",
       "      <td>23</td>\n",
       "      <td>50000.0</td>\n",
       "      <td>1</td>\n",
       "    </tr>\n",
       "  </tbody>\n",
       "</table>\n",
       "<p>4381743 rows × 10 columns</p>\n",
       "</div>"
      ],
      "text/plain": [
       "               cust        rct_no  chnl_dv cop_c     br_c    pd_c     de_dt  \\\n",
       "0        M430112881  A01000001113        1   A01  A010039  PD0290  20210101   \n",
       "1        M646853852  A01000002265        1   A01  A010025  PD1369  20210101   \n",
       "2        M430112881  A01000003148        1   A01  A010039  PD0290  20210101   \n",
       "3        M430112881  A01000003148        1   A01  A010039  PD0290  20210101   \n",
       "4        M430112881  A01000004946        1   A01  A010039  PD0290  20210101   \n",
       "...             ...           ...      ...   ...      ...     ...       ...   \n",
       "4381738  M533286446  E06052119978        2   A06      NaN  PD0507  20211231   \n",
       "4381739  M533286446  E06052119978        2   A06      NaN  PD0507  20211231   \n",
       "4381740  M533286446  E06052119978        2   A06      NaN  PD0507  20211231   \n",
       "4381741  M533286446  E06052119978        2   A06      NaN  PD0507  20211231   \n",
       "4381742  M533286446  E06052119978        2   A06      NaN  PD0507  20211231   \n",
       "\n",
       "         de_hr   buy_am  buy_ct  \n",
       "0           10  15000.0       1  \n",
       "1           10  79700.0       1  \n",
       "2           10  19000.0       1  \n",
       "3           10  19000.0       1  \n",
       "4           10  19000.0       1  \n",
       "...        ...      ...     ...  \n",
       "4381738     23  50000.0       1  \n",
       "4381739     23  50000.0       1  \n",
       "4381740     23  50000.0       1  \n",
       "4381741     23  50000.0       1  \n",
       "4381742     23  50000.0       1  \n",
       "\n",
       "[4381743 rows x 10 columns]"
      ]
     },
     "execution_count": 14,
     "metadata": {},
     "output_type": "execute_result"
    }
   ],
   "source": [
    "prod_buy"
   ]
  },
  {
   "cell_type": "code",
   "execution_count": 15,
   "id": "28d627a0",
   "metadata": {},
   "outputs": [
    {
     "data": {
      "text/plain": [
       "<AxesSubplot:>"
      ]
     },
     "execution_count": 15,
     "metadata": {},
     "output_type": "execute_result"
    },
    {
     "data": {
      "image/png": "[encoded data removed]",
      "text/plain": [
       "<Figure size 432x288 with 1 Axes>"
      ]
     },
     "metadata": {
      "needs_background": "light"
     },
     "output_type": "display_data"
    }
   ],
   "source": [
    "prod_buy.groupby('cust')['rct_no'].count().plot.box()"
   ]
  },
  {
   "cell_type": "code",
   "execution_count": 16,
   "id": "512ca958",
   "metadata": {},
   "outputs": [
    {
     "data": {
      "text/plain": [
       "<AxesSubplot:>"
      ]
     },
     "execution_count": 16,
     "metadata": {},
     "output_type": "execute_result"
    },
    {
     "data": {
      "image/png": "[encoded data removed]",
      "text/plain": [
       "<Figure size 432x288 with 1 Axes>"
      ]
     },
     "metadata": {
      "needs_background": "light"
     },
     "output_type": "display_data"
    }
   ],
   "source": [
    "prod_buy.groupby('cust')['buy_ct'].count().plot.box()"
   ]
  },
  {
   "cell_type": "code",
   "execution_count": 17,
   "id": "f62d2154",
   "metadata": {},
   "outputs": [
    {
     "data": {
      "text/plain": [
       "cust            0\n",
       "rct_no          0\n",
       "chnl_dv         0\n",
       "cop_c           0\n",
       "br_c       428501\n",
       "pd_c            0\n",
       "de_dt           0\n",
       "de_hr           0\n",
       "buy_am          0\n",
       "buy_ct          0\n",
       "dtype: int64"
      ]
     },
     "execution_count": 17,
     "metadata": {},
     "output_type": "execute_result"
    }
   ],
   "source": [
    "prod_buy.isna().sum() "
   ]
  },
  {
   "cell_type": "code",
   "execution_count": 18,
   "id": "f58df743",
   "metadata": {},
   "outputs": [
    {
     "data": {
      "text/plain": [
       "76160"
      ]
     },
     "execution_count": 18,
     "metadata": {},
     "output_type": "execute_result"
    }
   ],
   "source": [
    "prod_buy.query('cop_c == \"A06\"')['br_c'].isna().sum() "
   ]
  },
  {
   "cell_type": "code",
   "execution_count": 19,
   "id": "52b0609c",
   "metadata": {
    "scrolled": true
   },
   "outputs": [
    {
     "name": "stdout",
     "output_type": "stream",
     "text": [
      "A01 700350 6244\n",
      "A02 2374970 230081\n",
      "A03 905691 114879\n",
      "A04 316401 0\n",
      "A05 8171 1137\n",
      "A06 76160 76160\n"
     ]
    }
   ],
   "source": [
    "for i in prod_buy['cop_c'].unique() : \n",
    "    df = prod_buy.query('cop_c == @i ')\n",
    "    print(i , df.shape[0], prod_buy.query('cop_c == @i ')['br_c'].isna().sum())"
   ]
  },
  {
   "cell_type": "code",
   "execution_count": 20,
   "id": "3f2653df",
   "metadata": {},
   "outputs": [
    {
     "data": {
      "text/plain": [
       "26917"
      ]
     },
     "execution_count": 20,
     "metadata": {},
     "output_type": "execute_result"
    }
   ],
   "source": [
    "prod_buy['cust'].nunique()"
   ]
  },
  {
   "cell_type": "code",
   "execution_count": 21,
   "id": "4bdfbc40",
   "metadata": {},
   "outputs": [
    {
     "data": {
      "text/plain": [
       "29913"
      ]
     },
     "execution_count": 21,
     "metadata": {},
     "output_type": "execute_result"
    }
   ],
   "source": [
    "cust_demo['cust'].nunique()"
   ]
  },
  {
   "cell_type": "code",
   "execution_count": 22,
   "id": "bb47d53b",
   "metadata": {},
   "outputs": [
    {
     "data": {
      "text/plain": [
       "count    4.381743e+06\n",
       "mean     2.321254e+04\n",
       "std      2.298097e+05\n",
       "min      1.000000e+00\n",
       "25%      2.000000e+03\n",
       "50%      4.000000e+03\n",
       "75%      9.280000e+03\n",
       "max      6.400000e+07\n",
       "Name: buy_am, dtype: float64"
      ]
     },
     "execution_count": 22,
     "metadata": {},
     "output_type": "execute_result"
    }
   ],
   "source": [
    "prod_buy['buy_am'].describe()"
   ]
  },
  {
   "cell_type": "code",
   "execution_count": 23,
   "id": "3ec26c11",
   "metadata": {
    "scrolled": true
   },
   "outputs": [
    {
     "data": {
      "text/html": [
       "<div>\n",
       "<style scoped>\n",
       "    .dataframe tbody tr th:only-of-type {\n",
       "        vertical-align: middle;\n",
       "    }\n",
       "\n",
       "    .dataframe tbody tr th {\n",
       "        vertical-align: top;\n",
       "    }\n",
       "\n",
       "    .dataframe thead th {\n",
       "        text-align: right;\n",
       "    }\n",
       "</style>\n",
       "<table border=\"1\" class=\"dataframe\">\n",
       "  <thead>\n",
       "    <tr style=\"text-align: right;\">\n",
       "      <th></th>\n",
       "      <th>cust</th>\n",
       "      <th>rct_no</th>\n",
       "      <th>chnl_dv</th>\n",
       "      <th>cop_c</th>\n",
       "      <th>br_c</th>\n",
       "      <th>pd_c</th>\n",
       "      <th>de_dt</th>\n",
       "      <th>de_hr</th>\n",
       "      <th>buy_am</th>\n",
       "      <th>buy_ct</th>\n",
       "      <th>pd_nm</th>\n",
       "      <th>clac_hlv_nm</th>\n",
       "      <th>clac_mcls_nm</th>\n",
       "    </tr>\n",
       "  </thead>\n",
       "  <tbody>\n",
       "    <tr>\n",
       "      <th>0</th>\n",
       "      <td>M430112881</td>\n",
       "      <td>A01000001113</td>\n",
       "      <td>1</td>\n",
       "      <td>A01</td>\n",
       "      <td>A010039</td>\n",
       "      <td>PD0290</td>\n",
       "      <td>20210101</td>\n",
       "      <td>10</td>\n",
       "      <td>15000.0</td>\n",
       "      <td>1</td>\n",
       "      <td>남성티셔츠</td>\n",
       "      <td>남성의류</td>\n",
       "      <td>남성의류상의</td>\n",
       "    </tr>\n",
       "    <tr>\n",
       "      <th>1</th>\n",
       "      <td>M646853852</td>\n",
       "      <td>A01000002265</td>\n",
       "      <td>1</td>\n",
       "      <td>A01</td>\n",
       "      <td>A010025</td>\n",
       "      <td>PD1369</td>\n",
       "      <td>20210101</td>\n",
       "      <td>10</td>\n",
       "      <td>79700.0</td>\n",
       "      <td>1</td>\n",
       "      <td>기타주방일회용품</td>\n",
       "      <td>주방잡화</td>\n",
       "      <td>주방일회용품</td>\n",
       "    </tr>\n",
       "    <tr>\n",
       "      <th>2</th>\n",
       "      <td>M430112881</td>\n",
       "      <td>A01000003148</td>\n",
       "      <td>1</td>\n",
       "      <td>A01</td>\n",
       "      <td>A010039</td>\n",
       "      <td>PD0290</td>\n",
       "      <td>20210101</td>\n",
       "      <td>10</td>\n",
       "      <td>19000.0</td>\n",
       "      <td>1</td>\n",
       "      <td>남성티셔츠</td>\n",
       "      <td>남성의류</td>\n",
       "      <td>남성의류상의</td>\n",
       "    </tr>\n",
       "    <tr>\n",
       "      <th>3</th>\n",
       "      <td>M430112881</td>\n",
       "      <td>A01000003148</td>\n",
       "      <td>1</td>\n",
       "      <td>A01</td>\n",
       "      <td>A010039</td>\n",
       "      <td>PD0290</td>\n",
       "      <td>20210101</td>\n",
       "      <td>10</td>\n",
       "      <td>19000.0</td>\n",
       "      <td>1</td>\n",
       "      <td>남성티셔츠</td>\n",
       "      <td>남성의류</td>\n",
       "      <td>남성의류상의</td>\n",
       "    </tr>\n",
       "    <tr>\n",
       "      <th>4</th>\n",
       "      <td>M430112881</td>\n",
       "      <td>A01000004946</td>\n",
       "      <td>1</td>\n",
       "      <td>A01</td>\n",
       "      <td>A010039</td>\n",
       "      <td>PD0290</td>\n",
       "      <td>20210101</td>\n",
       "      <td>10</td>\n",
       "      <td>19000.0</td>\n",
       "      <td>1</td>\n",
       "      <td>남성티셔츠</td>\n",
       "      <td>남성의류</td>\n",
       "      <td>남성의류상의</td>\n",
       "    </tr>\n",
       "    <tr>\n",
       "      <th>...</th>\n",
       "      <td>...</td>\n",
       "      <td>...</td>\n",
       "      <td>...</td>\n",
       "      <td>...</td>\n",
       "      <td>...</td>\n",
       "      <td>...</td>\n",
       "      <td>...</td>\n",
       "      <td>...</td>\n",
       "      <td>...</td>\n",
       "      <td>...</td>\n",
       "      <td>...</td>\n",
       "      <td>...</td>\n",
       "      <td>...</td>\n",
       "    </tr>\n",
       "    <tr>\n",
       "      <th>4381738</th>\n",
       "      <td>M533286446</td>\n",
       "      <td>E06052119978</td>\n",
       "      <td>2</td>\n",
       "      <td>A06</td>\n",
       "      <td>NaN</td>\n",
       "      <td>PD0507</td>\n",
       "      <td>20211231</td>\n",
       "      <td>23</td>\n",
       "      <td>50000.0</td>\n",
       "      <td>1</td>\n",
       "      <td>백화점/마트모바일상품권</td>\n",
       "      <td>상품권</td>\n",
       "      <td>모바일상품권</td>\n",
       "    </tr>\n",
       "    <tr>\n",
       "      <th>4381739</th>\n",
       "      <td>M533286446</td>\n",
       "      <td>E06052119978</td>\n",
       "      <td>2</td>\n",
       "      <td>A06</td>\n",
       "      <td>NaN</td>\n",
       "      <td>PD0507</td>\n",
       "      <td>20211231</td>\n",
       "      <td>23</td>\n",
       "      <td>50000.0</td>\n",
       "      <td>1</td>\n",
       "      <td>백화점/마트모바일상품권</td>\n",
       "      <td>상품권</td>\n",
       "      <td>모바일상품권</td>\n",
       "    </tr>\n",
       "    <tr>\n",
       "      <th>4381740</th>\n",
       "      <td>M533286446</td>\n",
       "      <td>E06052119978</td>\n",
       "      <td>2</td>\n",
       "      <td>A06</td>\n",
       "      <td>NaN</td>\n",
       "      <td>PD0507</td>\n",
       "      <td>20211231</td>\n",
       "      <td>23</td>\n",
       "      <td>50000.0</td>\n",
       "      <td>1</td>\n",
       "      <td>백화점/마트모바일상품권</td>\n",
       "      <td>상품권</td>\n",
       "      <td>모바일상품권</td>\n",
       "    </tr>\n",
       "    <tr>\n",
       "      <th>4381741</th>\n",
       "      <td>M533286446</td>\n",
       "      <td>E06052119978</td>\n",
       "      <td>2</td>\n",
       "      <td>A06</td>\n",
       "      <td>NaN</td>\n",
       "      <td>PD0507</td>\n",
       "      <td>20211231</td>\n",
       "      <td>23</td>\n",
       "      <td>50000.0</td>\n",
       "      <td>1</td>\n",
       "      <td>백화점/마트모바일상품권</td>\n",
       "      <td>상품권</td>\n",
       "      <td>모바일상품권</td>\n",
       "    </tr>\n",
       "    <tr>\n",
       "      <th>4381742</th>\n",
       "      <td>M533286446</td>\n",
       "      <td>E06052119978</td>\n",
       "      <td>2</td>\n",
       "      <td>A06</td>\n",
       "      <td>NaN</td>\n",
       "      <td>PD0507</td>\n",
       "      <td>20211231</td>\n",
       "      <td>23</td>\n",
       "      <td>50000.0</td>\n",
       "      <td>1</td>\n",
       "      <td>백화점/마트모바일상품권</td>\n",
       "      <td>상품권</td>\n",
       "      <td>모바일상품권</td>\n",
       "    </tr>\n",
       "  </tbody>\n",
       "</table>\n",
       "<p>4381743 rows × 13 columns</p>\n",
       "</div>"
      ],
      "text/plain": [
       "               cust        rct_no  chnl_dv cop_c     br_c    pd_c     de_dt  \\\n",
       "0        M430112881  A01000001113        1   A01  A010039  PD0290  20210101   \n",
       "1        M646853852  A01000002265        1   A01  A010025  PD1369  20210101   \n",
       "2        M430112881  A01000003148        1   A01  A010039  PD0290  20210101   \n",
       "3        M430112881  A01000003148        1   A01  A010039  PD0290  20210101   \n",
       "4        M430112881  A01000004946        1   A01  A010039  PD0290  20210101   \n",
       "...             ...           ...      ...   ...      ...     ...       ...   \n",
       "4381738  M533286446  E06052119978        2   A06      NaN  PD0507  20211231   \n",
       "4381739  M533286446  E06052119978        2   A06      NaN  PD0507  20211231   \n",
       "4381740  M533286446  E06052119978        2   A06      NaN  PD0507  20211231   \n",
       "4381741  M533286446  E06052119978        2   A06      NaN  PD0507  20211231   \n",
       "4381742  M533286446  E06052119978        2   A06      NaN  PD0507  20211231   \n",
       "\n",
       "         de_hr   buy_am  buy_ct         pd_nm clac_hlv_nm clac_mcls_nm  \n",
       "0           10  15000.0       1         남성티셔츠        남성의류       남성의류상의  \n",
       "1           10  79700.0       1      기타주방일회용품        주방잡화       주방일회용품  \n",
       "2           10  19000.0       1         남성티셔츠        남성의류       남성의류상의  \n",
       "3           10  19000.0       1         남성티셔츠        남성의류       남성의류상의  \n",
       "4           10  19000.0       1         남성티셔츠        남성의류       남성의류상의  \n",
       "...        ...      ...     ...           ...         ...          ...  \n",
       "4381738     23  50000.0       1  백화점/마트모바일상품권         상품권       모바일상품권  \n",
       "4381739     23  50000.0       1  백화점/마트모바일상품권         상품권       모바일상품권  \n",
       "4381740     23  50000.0       1  백화점/마트모바일상품권         상품권       모바일상품권  \n",
       "4381741     23  50000.0       1  백화점/마트모바일상품권         상품권       모바일상품권  \n",
       "4381742     23  50000.0       1  백화점/마트모바일상품권         상품권       모바일상품권  \n",
       "\n",
       "[4381743 rows x 13 columns]"
      ]
     },
     "execution_count": 23,
     "metadata": {},
     "output_type": "execute_result"
    }
   ],
   "source": [
    "prod_buy_cat = pd.merge(prod_buy , prod_cat , how = 'left') ; prod_buy_cat"
   ]
  },
  {
   "cell_type": "code",
   "execution_count": 24,
   "id": "b98454f1",
   "metadata": {},
   "outputs": [
    {
     "data": {
      "text/plain": [
       "cop_c  clac_hlv_nm\n",
       "A01    테넌트/음식점        118284\n",
       "       여성의류            61681\n",
       "       남성의류            61618\n",
       "       스포츠패션           55184\n",
       "       패션잡화            41788\n",
       "                       ...  \n",
       "A06    영상/음향가전           122\n",
       "       유아식품              121\n",
       "       냉장/세탁가전            64\n",
       "       주류                 30\n",
       "       생활/렌탈서비스           15\n",
       "Name: clac_hlv_nm, Length: 302, dtype: int64"
      ]
     },
     "execution_count": 24,
     "metadata": {},
     "output_type": "execute_result"
    }
   ],
   "source": [
    "prod_buy_cat.groupby('cop_c')['clac_hlv_nm'].value_counts()"
   ]
  },
  {
   "cell_type": "code",
   "execution_count": null,
   "id": "f6e089b7",
   "metadata": {},
   "outputs": [],
   "source": []
  },
  {
   "cell_type": "markdown",
   "id": "06901d3f",
   "metadata": {},
   "source": [
    "### service_use\n",
    "#### 제휴사 서비스 이용 정보\n",
    "cust: 고객 번호  \n",
    "rct_no: 영수증 번호  \n",
    "cop_c: 제휴사 분류(업종 분류)  \n",
    "br_c: 점포 구분  ( B01 숙박 / C 엔터 / D F&B / E 렌탈 )  \n",
    "de_dt: 이용 일자  \n",
    "vst_dt: 방문 일자  \n",
    "de_hr: 이용 시간  \n",
    "buy_am: 이용 금액  "
   ]
  },
  {
   "cell_type": "code",
   "execution_count": 25,
   "id": "449a6261",
   "metadata": {},
   "outputs": [
    {
     "data": {
      "text/html": [
       "<div>\n",
       "<style scoped>\n",
       "    .dataframe tbody tr th:only-of-type {\n",
       "        vertical-align: middle;\n",
       "    }\n",
       "\n",
       "    .dataframe tbody tr th {\n",
       "        vertical-align: top;\n",
       "    }\n",
       "\n",
       "    .dataframe thead th {\n",
       "        text-align: right;\n",
       "    }\n",
       "</style>\n",
       "<table border=\"1\" class=\"dataframe\">\n",
       "  <thead>\n",
       "    <tr style=\"text-align: right;\">\n",
       "      <th></th>\n",
       "      <th>cust</th>\n",
       "      <th>rct_no</th>\n",
       "      <th>cop_c</th>\n",
       "      <th>br_c</th>\n",
       "      <th>chnl_dv</th>\n",
       "      <th>de_dt</th>\n",
       "      <th>vst_dt</th>\n",
       "      <th>de_hr</th>\n",
       "      <th>buy_am</th>\n",
       "    </tr>\n",
       "  </thead>\n",
       "  <tbody>\n",
       "    <tr>\n",
       "      <th>0</th>\n",
       "      <td>M839993508</td>\n",
       "      <td>21102612B015763935</td>\n",
       "      <td>B01</td>\n",
       "      <td>B010012</td>\n",
       "      <td>1</td>\n",
       "      <td>20211026</td>\n",
       "      <td>20211026</td>\n",
       "      <td>12</td>\n",
       "      <td>60000</td>\n",
       "    </tr>\n",
       "    <tr>\n",
       "      <th>1</th>\n",
       "      <td>M839993508</td>\n",
       "      <td>21110610B014219744</td>\n",
       "      <td>B01</td>\n",
       "      <td>B010012</td>\n",
       "      <td>1</td>\n",
       "      <td>20211106</td>\n",
       "      <td>20211106</td>\n",
       "      <td>10</td>\n",
       "      <td>17100</td>\n",
       "    </tr>\n",
       "    <tr>\n",
       "      <th>2</th>\n",
       "      <td>M839993508</td>\n",
       "      <td>21021112B013419710</td>\n",
       "      <td>B01</td>\n",
       "      <td>B010012</td>\n",
       "      <td>1</td>\n",
       "      <td>20210211</td>\n",
       "      <td>20210211</td>\n",
       "      <td>12</td>\n",
       "      <td>136500</td>\n",
       "    </tr>\n",
       "    <tr>\n",
       "      <th>3</th>\n",
       "      <td>M839993508</td>\n",
       "      <td>21092010B012637545</td>\n",
       "      <td>B01</td>\n",
       "      <td>B010012</td>\n",
       "      <td>1</td>\n",
       "      <td>20210920</td>\n",
       "      <td>20210920</td>\n",
       "      <td>10</td>\n",
       "      <td>34200</td>\n",
       "    </tr>\n",
       "    <tr>\n",
       "      <th>4</th>\n",
       "      <td>M839993508</td>\n",
       "      <td>21101009D015920171</td>\n",
       "      <td>D01</td>\n",
       "      <td>D010614</td>\n",
       "      <td>1</td>\n",
       "      <td>20211010</td>\n",
       "      <td>20211010</td>\n",
       "      <td>9</td>\n",
       "      <td>2500</td>\n",
       "    </tr>\n",
       "    <tr>\n",
       "      <th>...</th>\n",
       "      <td>...</td>\n",
       "      <td>...</td>\n",
       "      <td>...</td>\n",
       "      <td>...</td>\n",
       "      <td>...</td>\n",
       "      <td>...</td>\n",
       "      <td>...</td>\n",
       "      <td>...</td>\n",
       "      <td>...</td>\n",
       "    </tr>\n",
       "    <tr>\n",
       "      <th>248299</th>\n",
       "      <td>M058650684</td>\n",
       "      <td>21111614C021426818</td>\n",
       "      <td>C02</td>\n",
       "      <td>C020002</td>\n",
       "      <td>1</td>\n",
       "      <td>20211116</td>\n",
       "      <td>20211116</td>\n",
       "      <td>14</td>\n",
       "      <td>2000</td>\n",
       "    </tr>\n",
       "    <tr>\n",
       "      <th>248300</th>\n",
       "      <td>M058650684</td>\n",
       "      <td>21111619C023223432</td>\n",
       "      <td>C02</td>\n",
       "      <td>C020002</td>\n",
       "      <td>1</td>\n",
       "      <td>20211116</td>\n",
       "      <td>20211116</td>\n",
       "      <td>19</td>\n",
       "      <td>26900</td>\n",
       "    </tr>\n",
       "    <tr>\n",
       "      <th>248301</th>\n",
       "      <td>M014154595</td>\n",
       "      <td>21121209C015324520</td>\n",
       "      <td>C01</td>\n",
       "      <td>C010087</td>\n",
       "      <td>2</td>\n",
       "      <td>20211212</td>\n",
       "      <td>20211212</td>\n",
       "      <td>9</td>\n",
       "      <td>2000</td>\n",
       "    </tr>\n",
       "    <tr>\n",
       "      <th>248302</th>\n",
       "      <td>M510878172</td>\n",
       "      <td>21112719C013369102</td>\n",
       "      <td>C01</td>\n",
       "      <td>C010007</td>\n",
       "      <td>2</td>\n",
       "      <td>20211127</td>\n",
       "      <td>20211127</td>\n",
       "      <td>19</td>\n",
       "      <td>6000</td>\n",
       "    </tr>\n",
       "    <tr>\n",
       "      <th>248303</th>\n",
       "      <td>M761634870</td>\n",
       "      <td>21122419C013829696</td>\n",
       "      <td>C01</td>\n",
       "      <td>C010014</td>\n",
       "      <td>2</td>\n",
       "      <td>20211224</td>\n",
       "      <td>20211225</td>\n",
       "      <td>19</td>\n",
       "      <td>28000</td>\n",
       "    </tr>\n",
       "  </tbody>\n",
       "</table>\n",
       "<p>248304 rows × 9 columns</p>\n",
       "</div>"
      ],
      "text/plain": [
       "              cust              rct_no cop_c     br_c  chnl_dv     de_dt  \\\n",
       "0       M839993508  21102612B015763935   B01  B010012        1  20211026   \n",
       "1       M839993508  21110610B014219744   B01  B010012        1  20211106   \n",
       "2       M839993508  21021112B013419710   B01  B010012        1  20210211   \n",
       "3       M839993508  21092010B012637545   B01  B010012        1  20210920   \n",
       "4       M839993508  21101009D015920171   D01  D010614        1  20211010   \n",
       "...            ...                 ...   ...      ...      ...       ...   \n",
       "248299  M058650684  21111614C021426818   C02  C020002        1  20211116   \n",
       "248300  M058650684  21111619C023223432   C02  C020002        1  20211116   \n",
       "248301  M014154595  21121209C015324520   C01  C010087        2  20211212   \n",
       "248302  M510878172  21112719C013369102   C01  C010007        2  20211127   \n",
       "248303  M761634870  21122419C013829696   C01  C010014        2  20211224   \n",
       "\n",
       "          vst_dt  de_hr  buy_am  \n",
       "0       20211026     12   60000  \n",
       "1       20211106     10   17100  \n",
       "2       20210211     12  136500  \n",
       "3       20210920     10   34200  \n",
       "4       20211010      9    2500  \n",
       "...          ...    ...     ...  \n",
       "248299  20211116     14    2000  \n",
       "248300  20211116     19   26900  \n",
       "248301  20211212      9    2000  \n",
       "248302  20211127     19    6000  \n",
       "248303  20211225     19   28000  \n",
       "\n",
       "[248304 rows x 9 columns]"
      ]
     },
     "execution_count": 25,
     "metadata": {},
     "output_type": "execute_result"
    }
   ],
   "source": [
    "service_use"
   ]
  },
  {
   "cell_type": "code",
   "execution_count": 26,
   "id": "6c5ae8a4",
   "metadata": {
    "scrolled": true
   },
   "outputs": [
    {
     "name": "stdout",
     "output_type": "stream",
     "text": [
      "<class 'pandas.core.frame.DataFrame'>\n",
      "RangeIndex: 248304 entries, 0 to 248303\n",
      "Data columns (total 9 columns):\n",
      " #   Column   Non-Null Count   Dtype \n",
      "---  ------   --------------   ----- \n",
      " 0   cust     248304 non-null  object\n",
      " 1   rct_no   248304 non-null  object\n",
      " 2   cop_c    248304 non-null  object\n",
      " 3   br_c     248249 non-null  object\n",
      " 4   chnl_dv  248304 non-null  int64 \n",
      " 5   de_dt    248304 non-null  int64 \n",
      " 6   vst_dt   248304 non-null  int64 \n",
      " 7   de_hr    248304 non-null  int64 \n",
      " 8   buy_am   248304 non-null  int64 \n",
      "dtypes: int64(5), object(4)\n",
      "memory usage: 17.0+ MB\n"
     ]
    }
   ],
   "source": [
    "service_use.info() # br_c 결측값 "
   ]
  },
  {
   "cell_type": "code",
   "execution_count": 27,
   "id": "8d64f11d",
   "metadata": {},
   "outputs": [],
   "source": [
    "service_use['de_dt_month'] = service_use['de_dt'].astype('str').apply(lambda x : x[4:6])"
   ]
  },
  {
   "cell_type": "code",
   "execution_count": 28,
   "id": "745a9607",
   "metadata": {},
   "outputs": [
    {
     "data": {
      "text/plain": [
       "<AxesSubplot:>"
      ]
     },
     "execution_count": 28,
     "metadata": {},
     "output_type": "execute_result"
    },
    {
     "data": {
      "image/png": "[encoded data removed]",
      "text/plain": [
       "<Figure size 432x288 with 1 Axes>"
      ]
     },
     "metadata": {
      "needs_background": "light"
     },
     "output_type": "display_data"
    }
   ],
   "source": [
    "service_use['de_dt_month'].value_counts().plot.bar() # 월별 구매 건수"
   ]
  },
  {
   "cell_type": "code",
   "execution_count": 29,
   "id": "2a8a1b76",
   "metadata": {},
   "outputs": [
    {
     "data": {
      "text/plain": [
       "<AxesSubplot:xlabel='de_dt_month'>"
      ]
     },
     "execution_count": 29,
     "metadata": {},
     "output_type": "execute_result"
    },
    {
     "data": {
      "image/png": "[encoded data removed]",
      "text/plain": [
       "<Figure size 432x288 with 1 Axes>"
      ]
     },
     "metadata": {
      "needs_background": "light"
     },
     "output_type": "display_data"
    }
   ],
   "source": [
    "service_use.groupby('de_dt_month')['buy_am'].sum().plot.bar() # 월별 매출액"
   ]
  },
  {
   "cell_type": "code",
   "execution_count": 30,
   "id": "5e5f55ab",
   "metadata": {},
   "outputs": [
    {
     "name": "stdout",
     "output_type": "stream",
     "text": [
      "B01 8103 0\n",
      "D01 112232 0\n",
      "C01 48323 0\n",
      "D02 43134 0\n",
      "C02 30258 0\n",
      "E01 6254 55\n"
     ]
    }
   ],
   "source": [
    "for i in service_use['cop_c'].unique() : \n",
    "    df = service_use.query('cop_c == @i ')\n",
    "    print(i , df.shape[0], df['br_c'].isna().sum() )"
   ]
  },
  {
   "cell_type": "code",
   "execution_count": 31,
   "id": "687dc582",
   "metadata": {},
   "outputs": [
    {
     "data": {
      "text/plain": [
       "<AxesSubplot:>"
      ]
     },
     "execution_count": 31,
     "metadata": {},
     "output_type": "execute_result"
    },
    {
     "data": {
      "image/png": "[encoded data removed]",
      "text/plain": [
       "<Figure size 432x288 with 1 Axes>"
      ]
     },
     "metadata": {
      "needs_background": "light"
     },
     "output_type": "display_data"
    }
   ],
   "source": [
    "service_use['cop_c'].value_counts().plot.bar()"
   ]
  },
  {
   "cell_type": "code",
   "execution_count": 32,
   "id": "94ac2125",
   "metadata": {},
   "outputs": [
    {
     "data": {
      "text/html": [
       "<div>\n",
       "<style scoped>\n",
       "    .dataframe tbody tr th:only-of-type {\n",
       "        vertical-align: middle;\n",
       "    }\n",
       "\n",
       "    .dataframe tbody tr th {\n",
       "        vertical-align: top;\n",
       "    }\n",
       "\n",
       "    .dataframe thead th {\n",
       "        text-align: right;\n",
       "    }\n",
       "</style>\n",
       "<table border=\"1\" class=\"dataframe\">\n",
       "  <thead>\n",
       "    <tr style=\"text-align: right;\">\n",
       "      <th></th>\n",
       "      <th>cust</th>\n",
       "      <th>rct_no</th>\n",
       "      <th>cop_c</th>\n",
       "      <th>br_c</th>\n",
       "      <th>chnl_dv</th>\n",
       "      <th>de_dt</th>\n",
       "      <th>vst_dt</th>\n",
       "      <th>de_hr</th>\n",
       "      <th>buy_am</th>\n",
       "      <th>de_dt_month</th>\n",
       "      <th>ma_fem_dv</th>\n",
       "      <th>ages</th>\n",
       "      <th>zon_hlv</th>\n",
       "    </tr>\n",
       "  </thead>\n",
       "  <tbody>\n",
       "    <tr>\n",
       "      <th>0</th>\n",
       "      <td>M839993508</td>\n",
       "      <td>21102612B015763935</td>\n",
       "      <td>B01</td>\n",
       "      <td>B010012</td>\n",
       "      <td>1</td>\n",
       "      <td>20211026</td>\n",
       "      <td>20211026</td>\n",
       "      <td>12</td>\n",
       "      <td>60000</td>\n",
       "      <td>10</td>\n",
       "      <td>남성</td>\n",
       "      <td>70대</td>\n",
       "      <td>Z17</td>\n",
       "    </tr>\n",
       "    <tr>\n",
       "      <th>1</th>\n",
       "      <td>M839993508</td>\n",
       "      <td>21110610B014219744</td>\n",
       "      <td>B01</td>\n",
       "      <td>B010012</td>\n",
       "      <td>1</td>\n",
       "      <td>20211106</td>\n",
       "      <td>20211106</td>\n",
       "      <td>10</td>\n",
       "      <td>17100</td>\n",
       "      <td>11</td>\n",
       "      <td>남성</td>\n",
       "      <td>70대</td>\n",
       "      <td>Z17</td>\n",
       "    </tr>\n",
       "    <tr>\n",
       "      <th>2</th>\n",
       "      <td>M839993508</td>\n",
       "      <td>21021112B013419710</td>\n",
       "      <td>B01</td>\n",
       "      <td>B010012</td>\n",
       "      <td>1</td>\n",
       "      <td>20210211</td>\n",
       "      <td>20210211</td>\n",
       "      <td>12</td>\n",
       "      <td>136500</td>\n",
       "      <td>02</td>\n",
       "      <td>남성</td>\n",
       "      <td>70대</td>\n",
       "      <td>Z17</td>\n",
       "    </tr>\n",
       "    <tr>\n",
       "      <th>3</th>\n",
       "      <td>M839993508</td>\n",
       "      <td>21092010B012637545</td>\n",
       "      <td>B01</td>\n",
       "      <td>B010012</td>\n",
       "      <td>1</td>\n",
       "      <td>20210920</td>\n",
       "      <td>20210920</td>\n",
       "      <td>10</td>\n",
       "      <td>34200</td>\n",
       "      <td>09</td>\n",
       "      <td>남성</td>\n",
       "      <td>70대</td>\n",
       "      <td>Z17</td>\n",
       "    </tr>\n",
       "    <tr>\n",
       "      <th>4</th>\n",
       "      <td>M839993508</td>\n",
       "      <td>21101009D015920171</td>\n",
       "      <td>D01</td>\n",
       "      <td>D010614</td>\n",
       "      <td>1</td>\n",
       "      <td>20211010</td>\n",
       "      <td>20211010</td>\n",
       "      <td>9</td>\n",
       "      <td>2500</td>\n",
       "      <td>10</td>\n",
       "      <td>남성</td>\n",
       "      <td>70대</td>\n",
       "      <td>Z17</td>\n",
       "    </tr>\n",
       "    <tr>\n",
       "      <th>...</th>\n",
       "      <td>...</td>\n",
       "      <td>...</td>\n",
       "      <td>...</td>\n",
       "      <td>...</td>\n",
       "      <td>...</td>\n",
       "      <td>...</td>\n",
       "      <td>...</td>\n",
       "      <td>...</td>\n",
       "      <td>...</td>\n",
       "      <td>...</td>\n",
       "      <td>...</td>\n",
       "      <td>...</td>\n",
       "      <td>...</td>\n",
       "    </tr>\n",
       "    <tr>\n",
       "      <th>248299</th>\n",
       "      <td>M058650684</td>\n",
       "      <td>21111614C021426818</td>\n",
       "      <td>C02</td>\n",
       "      <td>C020002</td>\n",
       "      <td>1</td>\n",
       "      <td>20211116</td>\n",
       "      <td>20211116</td>\n",
       "      <td>14</td>\n",
       "      <td>2000</td>\n",
       "      <td>11</td>\n",
       "      <td>여성</td>\n",
       "      <td>20대</td>\n",
       "      <td>Z10</td>\n",
       "    </tr>\n",
       "    <tr>\n",
       "      <th>248300</th>\n",
       "      <td>M058650684</td>\n",
       "      <td>21111619C023223432</td>\n",
       "      <td>C02</td>\n",
       "      <td>C020002</td>\n",
       "      <td>1</td>\n",
       "      <td>20211116</td>\n",
       "      <td>20211116</td>\n",
       "      <td>19</td>\n",
       "      <td>26900</td>\n",
       "      <td>11</td>\n",
       "      <td>여성</td>\n",
       "      <td>20대</td>\n",
       "      <td>Z10</td>\n",
       "    </tr>\n",
       "    <tr>\n",
       "      <th>248301</th>\n",
       "      <td>M014154595</td>\n",
       "      <td>21121209C015324520</td>\n",
       "      <td>C01</td>\n",
       "      <td>C010087</td>\n",
       "      <td>2</td>\n",
       "      <td>20211212</td>\n",
       "      <td>20211212</td>\n",
       "      <td>9</td>\n",
       "      <td>2000</td>\n",
       "      <td>12</td>\n",
       "      <td>여성</td>\n",
       "      <td>30대</td>\n",
       "      <td>Z12</td>\n",
       "    </tr>\n",
       "    <tr>\n",
       "      <th>248302</th>\n",
       "      <td>M510878172</td>\n",
       "      <td>21112719C013369102</td>\n",
       "      <td>C01</td>\n",
       "      <td>C010007</td>\n",
       "      <td>2</td>\n",
       "      <td>20211127</td>\n",
       "      <td>20211127</td>\n",
       "      <td>19</td>\n",
       "      <td>6000</td>\n",
       "      <td>11</td>\n",
       "      <td>남성</td>\n",
       "      <td>20대</td>\n",
       "      <td>Z17</td>\n",
       "    </tr>\n",
       "    <tr>\n",
       "      <th>248303</th>\n",
       "      <td>M761634870</td>\n",
       "      <td>21122419C013829696</td>\n",
       "      <td>C01</td>\n",
       "      <td>C010014</td>\n",
       "      <td>2</td>\n",
       "      <td>20211224</td>\n",
       "      <td>20211225</td>\n",
       "      <td>19</td>\n",
       "      <td>28000</td>\n",
       "      <td>12</td>\n",
       "      <td>남성</td>\n",
       "      <td>30대</td>\n",
       "      <td>Z17</td>\n",
       "    </tr>\n",
       "  </tbody>\n",
       "</table>\n",
       "<p>248304 rows × 13 columns</p>\n",
       "</div>"
      ],
      "text/plain": [
       "              cust              rct_no cop_c     br_c  chnl_dv     de_dt  \\\n",
       "0       M839993508  21102612B015763935   B01  B010012        1  20211026   \n",
       "1       M839993508  21110610B014219744   B01  B010012        1  20211106   \n",
       "2       M839993508  21021112B013419710   B01  B010012        1  20210211   \n",
       "3       M839993508  21092010B012637545   B01  B010012        1  20210920   \n",
       "4       M839993508  21101009D015920171   D01  D010614        1  20211010   \n",
       "...            ...                 ...   ...      ...      ...       ...   \n",
       "248299  M058650684  21111614C021426818   C02  C020002        1  20211116   \n",
       "248300  M058650684  21111619C023223432   C02  C020002        1  20211116   \n",
       "248301  M014154595  21121209C015324520   C01  C010087        2  20211212   \n",
       "248302  M510878172  21112719C013369102   C01  C010007        2  20211127   \n",
       "248303  M761634870  21122419C013829696   C01  C010014        2  20211224   \n",
       "\n",
       "          vst_dt  de_hr  buy_am de_dt_month ma_fem_dv ages zon_hlv  \n",
       "0       20211026     12   60000          10        남성  70대     Z17  \n",
       "1       20211106     10   17100          11        남성  70대     Z17  \n",
       "2       20210211     12  136500          02        남성  70대     Z17  \n",
       "3       20210920     10   34200          09        남성  70대     Z17  \n",
       "4       20211010      9    2500          10        남성  70대     Z17  \n",
       "...          ...    ...     ...         ...       ...  ...     ...  \n",
       "248299  20211116     14    2000          11        여성  20대     Z10  \n",
       "248300  20211116     19   26900          11        여성  20대     Z10  \n",
       "248301  20211212      9    2000          12        여성  30대     Z12  \n",
       "248302  20211127     19    6000          11        남성  20대     Z17  \n",
       "248303  20211225     19   28000          12        남성  30대     Z17  \n",
       "\n",
       "[248304 rows x 13 columns]"
      ]
     },
     "execution_count": 32,
     "metadata": {},
     "output_type": "execute_result"
    }
   ],
   "source": [
    "service_cust = pd.merge(service_use , cust_demo , how = 'left') ; service_cust"
   ]
  },
  {
   "cell_type": "code",
   "execution_count": 33,
   "id": "4b548779",
   "metadata": {},
   "outputs": [
    {
     "data": {
      "image/png": "[encoded data removed]",
      "text/plain": [
       "<Figure size 432x288 with 1 Axes>"
      ]
     },
     "metadata": {
      "needs_background": "light"
     },
     "output_type": "display_data"
    }
   ],
   "source": [
    "pd.pivot_table( service_cust, index = \"cop_c\", columns = \"ages\", values = \"cust\", aggfunc = \"count\").plot.bar()\n",
    "plt.show()"
   ]
  },
  {
   "cell_type": "code",
   "execution_count": 34,
   "id": "99558d45",
   "metadata": {
    "scrolled": true
   },
   "outputs": [
    {
     "data": {
      "image/png": "[encoded data removed]",
      "text/plain": [
       "<Figure size 432x288 with 1 Axes>"
      ]
     },
     "metadata": {
      "needs_background": "light"
     },
     "output_type": "display_data"
    }
   ],
   "source": [
    "pd.pivot_table( service_cust, index = \"cop_c\", columns = \"ma_fem_dv\", values = \"cust\", aggfunc = \"count\").plot.bar()\n",
    "plt.show()"
   ]
  },
  {
   "cell_type": "markdown",
   "id": "8bad4c4b",
   "metadata": {},
   "source": [
    "### prod_cat\n",
    "#### 유통사 상품 카테고리 마스터\n",
    "pd_c: 상품코드  \n",
    "pd_nm: 상품 소분류  \n",
    "clac_hlv_nm: 상품 중분류  \n",
    "clac_mcls_nm: 상품 대분류  "
   ]
  },
  {
   "cell_type": "code",
   "execution_count": 35,
   "id": "e3e97832",
   "metadata": {},
   "outputs": [
    {
     "data": {
      "text/html": [
       "<div>\n",
       "<style scoped>\n",
       "    .dataframe tbody tr th:only-of-type {\n",
       "        vertical-align: middle;\n",
       "    }\n",
       "\n",
       "    .dataframe tbody tr th {\n",
       "        vertical-align: top;\n",
       "    }\n",
       "\n",
       "    .dataframe thead th {\n",
       "        text-align: right;\n",
       "    }\n",
       "</style>\n",
       "<table border=\"1\" class=\"dataframe\">\n",
       "  <thead>\n",
       "    <tr style=\"text-align: right;\">\n",
       "      <th></th>\n",
       "      <th>pd_c</th>\n",
       "      <th>pd_nm</th>\n",
       "      <th>clac_hlv_nm</th>\n",
       "      <th>clac_mcls_nm</th>\n",
       "    </tr>\n",
       "  </thead>\n",
       "  <tbody>\n",
       "    <tr>\n",
       "      <th>0</th>\n",
       "      <td>PD0001</td>\n",
       "      <td>소파</td>\n",
       "      <td>가구</td>\n",
       "      <td>거실가구</td>\n",
       "    </tr>\n",
       "    <tr>\n",
       "      <th>1</th>\n",
       "      <td>PD0002</td>\n",
       "      <td>스툴/리빙의자</td>\n",
       "      <td>가구</td>\n",
       "      <td>거실가구</td>\n",
       "    </tr>\n",
       "    <tr>\n",
       "      <th>2</th>\n",
       "      <td>PD0003</td>\n",
       "      <td>탁자</td>\n",
       "      <td>가구</td>\n",
       "      <td>거실가구</td>\n",
       "    </tr>\n",
       "    <tr>\n",
       "      <th>3</th>\n",
       "      <td>PD0004</td>\n",
       "      <td>장식장/진열장</td>\n",
       "      <td>가구</td>\n",
       "      <td>거실가구</td>\n",
       "    </tr>\n",
       "    <tr>\n",
       "      <th>4</th>\n",
       "      <td>PD0005</td>\n",
       "      <td>기타가구</td>\n",
       "      <td>가구</td>\n",
       "      <td>기타가구</td>\n",
       "    </tr>\n",
       "    <tr>\n",
       "      <th>...</th>\n",
       "      <td>...</td>\n",
       "      <td>...</td>\n",
       "      <td>...</td>\n",
       "      <td>...</td>\n",
       "    </tr>\n",
       "    <tr>\n",
       "      <th>1928</th>\n",
       "      <td>PD1929</td>\n",
       "      <td>여성향수</td>\n",
       "      <td>화장품/뷰티케어</td>\n",
       "      <td>향수</td>\n",
       "    </tr>\n",
       "    <tr>\n",
       "      <th>1929</th>\n",
       "      <td>PD1930</td>\n",
       "      <td>남성향수</td>\n",
       "      <td>화장품/뷰티케어</td>\n",
       "      <td>향수</td>\n",
       "    </tr>\n",
       "    <tr>\n",
       "      <th>1930</th>\n",
       "      <td>PD1931</td>\n",
       "      <td>남녀공용향수</td>\n",
       "      <td>화장품/뷰티케어</td>\n",
       "      <td>향수</td>\n",
       "    </tr>\n",
       "    <tr>\n",
       "      <th>1931</th>\n",
       "      <td>PD1932</td>\n",
       "      <td>남성향수세트</td>\n",
       "      <td>화장품/뷰티케어</td>\n",
       "      <td>향수</td>\n",
       "    </tr>\n",
       "    <tr>\n",
       "      <th>1932</th>\n",
       "      <td>PD1933</td>\n",
       "      <td>남녀공용향수세트</td>\n",
       "      <td>화장품/뷰티케어</td>\n",
       "      <td>향수</td>\n",
       "    </tr>\n",
       "  </tbody>\n",
       "</table>\n",
       "<p>1933 rows × 4 columns</p>\n",
       "</div>"
      ],
      "text/plain": [
       "        pd_c     pd_nm clac_hlv_nm clac_mcls_nm\n",
       "0     PD0001        소파          가구         거실가구\n",
       "1     PD0002   스툴/리빙의자          가구         거실가구\n",
       "2     PD0003        탁자          가구         거실가구\n",
       "3     PD0004   장식장/진열장          가구         거실가구\n",
       "4     PD0005      기타가구          가구         기타가구\n",
       "...      ...       ...         ...          ...\n",
       "1928  PD1929      여성향수    화장품/뷰티케어           향수\n",
       "1929  PD1930      남성향수    화장품/뷰티케어           향수\n",
       "1930  PD1931    남녀공용향수    화장품/뷰티케어           향수\n",
       "1931  PD1932    남성향수세트    화장품/뷰티케어           향수\n",
       "1932  PD1933  남녀공용향수세트    화장품/뷰티케어           향수\n",
       "\n",
       "[1933 rows x 4 columns]"
      ]
     },
     "execution_count": 35,
     "metadata": {},
     "output_type": "execute_result"
    }
   ],
   "source": [
    "prod_cat"
   ]
  },
  {
   "cell_type": "code",
   "execution_count": 36,
   "id": "77b7edbc",
   "metadata": {},
   "outputs": [
    {
     "name": "stdout",
     "output_type": "stream",
     "text": [
      "<class 'pandas.core.frame.DataFrame'>\n",
      "RangeIndex: 1933 entries, 0 to 1932\n",
      "Data columns (total 4 columns):\n",
      " #   Column        Non-Null Count  Dtype \n",
      "---  ------        --------------  ----- \n",
      " 0   pd_c          1933 non-null   object\n",
      " 1   pd_nm         1933 non-null   object\n",
      " 2   clac_hlv_nm   1933 non-null   object\n",
      " 3   clac_mcls_nm  1933 non-null   object\n",
      "dtypes: object(4)\n",
      "memory usage: 60.5+ KB\n"
     ]
    }
   ],
   "source": [
    "prod_cat.info()"
   ]
  },
  {
   "cell_type": "code",
   "execution_count": 37,
   "id": "0d4f5b10",
   "metadata": {},
   "outputs": [
    {
     "data": {
      "text/plain": [
       "1932"
      ]
     },
     "execution_count": 37,
     "metadata": {},
     "output_type": "execute_result"
    }
   ],
   "source": [
    "prod_cat['pd_nm'].nunique()"
   ]
  },
  {
   "cell_type": "code",
   "execution_count": 38,
   "id": "40964cf8",
   "metadata": {},
   "outputs": [
    {
     "data": {
      "text/plain": [
       "60"
      ]
     },
     "execution_count": 38,
     "metadata": {},
     "output_type": "execute_result"
    }
   ],
   "source": [
    "prod_cat['clac_hlv_nm'].nunique()"
   ]
  },
  {
   "cell_type": "code",
   "execution_count": 39,
   "id": "ee89eb68",
   "metadata": {},
   "outputs": [
    {
     "data": {
      "text/plain": [
       "349"
      ]
     },
     "execution_count": 39,
     "metadata": {},
     "output_type": "execute_result"
    }
   ],
   "source": [
    "prod_cat['clac_mcls_nm'].nunique()"
   ]
  },
  {
   "cell_type": "code",
   "execution_count": 40,
   "id": "280c92ee",
   "metadata": {},
   "outputs": [
    {
     "data": {
      "image/png": "[encoded data removed]",
      "text/plain": [
       "<Figure size 432x288 with 1 Axes>"
      ]
     },
     "metadata": {
      "needs_background": "light"
     },
     "output_type": "display_data"
    }
   ],
   "source": [
    "prod_cat['clac_hlv_nm'].value_counts().head(20).plot.bar()\n",
    "plt.show()"
   ]
  },
  {
   "cell_type": "code",
   "execution_count": 41,
   "id": "a00d3d2d",
   "metadata": {},
   "outputs": [
    {
     "data": {
      "image/png": "[encoded data removed]",
      "text/plain": [
       "<Figure size 432x288 with 1 Axes>"
      ]
     },
     "metadata": {
      "needs_background": "light"
     },
     "output_type": "display_data"
    }
   ],
   "source": [
    "prod_cat['clac_mcls_nm'].value_counts().head(20).plot.bar()\n",
    "plt.show()"
   ]
  },
  {
   "cell_type": "markdown",
   "id": "6bfa0a41",
   "metadata": {},
   "source": [
    "### partner  \n",
    "#### 유통사/제휴사 점포 마스터\n",
    "br_c: 점포 코드  \n",
    "zon_hlv: 지역 중분류  \n",
    "zon_mcls: 지역 대분류  "
   ]
  },
  {
   "cell_type": "code",
   "execution_count": 42,
   "id": "6bb203e8",
   "metadata": {},
   "outputs": [
    {
     "data": {
      "text/html": [
       "<div>\n",
       "<style scoped>\n",
       "    .dataframe tbody tr th:only-of-type {\n",
       "        vertical-align: middle;\n",
       "    }\n",
       "\n",
       "    .dataframe tbody tr th {\n",
       "        vertical-align: top;\n",
       "    }\n",
       "\n",
       "    .dataframe thead th {\n",
       "        text-align: right;\n",
       "    }\n",
       "</style>\n",
       "<table border=\"1\" class=\"dataframe\">\n",
       "  <thead>\n",
       "    <tr style=\"text-align: right;\">\n",
       "      <th></th>\n",
       "      <th>br_c</th>\n",
       "      <th>cop_c</th>\n",
       "      <th>zon_hlv</th>\n",
       "      <th>zon_mcls</th>\n",
       "    </tr>\n",
       "  </thead>\n",
       "  <tbody>\n",
       "    <tr>\n",
       "      <th>0</th>\n",
       "      <td>A010001</td>\n",
       "      <td>A01</td>\n",
       "      <td>Z17</td>\n",
       "      <td>Z17024</td>\n",
       "    </tr>\n",
       "    <tr>\n",
       "      <th>1</th>\n",
       "      <td>A010002</td>\n",
       "      <td>A01</td>\n",
       "      <td>Z17</td>\n",
       "      <td>Z17018</td>\n",
       "    </tr>\n",
       "    <tr>\n",
       "      <th>2</th>\n",
       "      <td>A010003</td>\n",
       "      <td>A01</td>\n",
       "      <td>Z17</td>\n",
       "      <td>Z17011</td>\n",
       "    </tr>\n",
       "    <tr>\n",
       "      <th>3</th>\n",
       "      <td>A010004</td>\n",
       "      <td>A01</td>\n",
       "      <td>Z16</td>\n",
       "      <td>Z16007</td>\n",
       "    </tr>\n",
       "    <tr>\n",
       "      <th>4</th>\n",
       "      <td>A010005</td>\n",
       "      <td>A01</td>\n",
       "      <td>Z17</td>\n",
       "      <td>Z17005</td>\n",
       "    </tr>\n",
       "    <tr>\n",
       "      <th>...</th>\n",
       "      <td>...</td>\n",
       "      <td>...</td>\n",
       "      <td>...</td>\n",
       "      <td>...</td>\n",
       "    </tr>\n",
       "    <tr>\n",
       "      <th>8803</th>\n",
       "      <td>E010040</td>\n",
       "      <td>E01</td>\n",
       "      <td>Z17</td>\n",
       "      <td>Z17024</td>\n",
       "    </tr>\n",
       "    <tr>\n",
       "      <th>8804</th>\n",
       "      <td>E010041</td>\n",
       "      <td>E01</td>\n",
       "      <td>Z16</td>\n",
       "      <td>Z16005</td>\n",
       "    </tr>\n",
       "    <tr>\n",
       "      <th>8805</th>\n",
       "      <td>E010042</td>\n",
       "      <td>E01</td>\n",
       "      <td>Z17</td>\n",
       "      <td>Z17021</td>\n",
       "    </tr>\n",
       "    <tr>\n",
       "      <th>8806</th>\n",
       "      <td>E010043</td>\n",
       "      <td>E01</td>\n",
       "      <td>Z10</td>\n",
       "      <td>Z10035</td>\n",
       "    </tr>\n",
       "    <tr>\n",
       "      <th>8807</th>\n",
       "      <td>E010044</td>\n",
       "      <td>E01</td>\n",
       "      <td>Z12</td>\n",
       "      <td>Z12014</td>\n",
       "    </tr>\n",
       "  </tbody>\n",
       "</table>\n",
       "<p>8808 rows × 4 columns</p>\n",
       "</div>"
      ],
      "text/plain": [
       "         br_c cop_c zon_hlv zon_mcls\n",
       "0     A010001   A01     Z17   Z17024\n",
       "1     A010002   A01     Z17   Z17018\n",
       "2     A010003   A01     Z17   Z17011\n",
       "3     A010004   A01     Z16   Z16007\n",
       "4     A010005   A01     Z17   Z17005\n",
       "...       ...   ...     ...      ...\n",
       "8803  E010040   E01     Z17   Z17024\n",
       "8804  E010041   E01     Z16   Z16005\n",
       "8805  E010042   E01     Z17   Z17021\n",
       "8806  E010043   E01     Z10   Z10035\n",
       "8807  E010044   E01     Z12   Z12014\n",
       "\n",
       "[8808 rows x 4 columns]"
      ]
     },
     "execution_count": 42,
     "metadata": {},
     "output_type": "execute_result"
    }
   ],
   "source": [
    "partner"
   ]
  },
  {
   "cell_type": "code",
   "execution_count": 43,
   "id": "fbd3b131",
   "metadata": {},
   "outputs": [
    {
     "name": "stdout",
     "output_type": "stream",
     "text": [
      "<class 'pandas.core.frame.DataFrame'>\n",
      "RangeIndex: 8808 entries, 0 to 8807\n",
      "Data columns (total 4 columns):\n",
      " #   Column    Non-Null Count  Dtype \n",
      "---  ------    --------------  ----- \n",
      " 0   br_c      8808 non-null   object\n",
      " 1   cop_c     8808 non-null   object\n",
      " 2   zon_hlv   8808 non-null   object\n",
      " 3   zon_mcls  8808 non-null   object\n",
      "dtypes: object(4)\n",
      "memory usage: 275.4+ KB\n"
     ]
    }
   ],
   "source": [
    "partner.info()"
   ]
  },
  {
   "cell_type": "code",
   "execution_count": 44,
   "id": "d8532855",
   "metadata": {},
   "outputs": [
    {
     "data": {
      "image/png": "[encoded data removed]",
      "text/plain": [
       "<Figure size 864x432 with 1 Axes>"
      ]
     },
     "metadata": {
      "needs_background": "light"
     },
     "output_type": "display_data"
    }
   ],
   "source": [
    "fig, ax = plt.subplots(figsize=(12,6))\n",
    "\n",
    "sns.countplot(data=partner, x='zon_hlv')\n",
    "\n",
    "plt.show()"
   ]
  },
  {
   "cell_type": "code",
   "execution_count": 45,
   "id": "bf1517ed",
   "metadata": {},
   "outputs": [
    {
     "data": {
      "image/png": "[encoded data removed]",
      "text/plain": [
       "<Figure size 720x1440 with 11 Axes>"
      ]
     },
     "metadata": {
      "needs_background": "light"
     },
     "output_type": "display_data"
    }
   ],
   "source": [
    "cop_c = partner['cop_c'].unique()\n",
    "n = 1 \n",
    "\n",
    "plt.figure(figsize=(10,20))\n",
    "\n",
    "for i in cop_c : \n",
    "    data = partner[partner['cop_c'] == i ]\n",
    "    ax = plt.subplot(5,3,n)\n",
    "    sns.countplot(data=data, x='zon_hlv')\n",
    "    plt.title(i)\n",
    "    n += 1 \n",
    "    \n",
    "plt.tight_layout()\n",
    "plt.show()"
   ]
  },
  {
   "cell_type": "code",
   "execution_count": 46,
   "id": "2bc19602",
   "metadata": {},
   "outputs": [
    {
     "data": {
      "text/plain": [
       "8808"
      ]
     },
     "execution_count": 46,
     "metadata": {},
     "output_type": "execute_result"
    }
   ],
   "source": [
    "partner['zon_hlv'].count()"
   ]
  },
  {
   "cell_type": "code",
   "execution_count": 47,
   "id": "e7c70d04",
   "metadata": {},
   "outputs": [
    {
     "data": {
      "text/plain": [
       "257"
      ]
     },
     "execution_count": 47,
     "metadata": {},
     "output_type": "execute_result"
    }
   ],
   "source": [
    "partner['zon_mcls'].nunique()"
   ]
  },
  {
   "cell_type": "markdown",
   "id": "ead9cb6f",
   "metadata": {},
   "source": [
    "### lpay\n",
    "#### 엘페이 결제 내역\n",
    "cust: 고객 번호  \n",
    "cop_c: 제휴사  \n",
    "rct_no: 영수증 번호  \n",
    "de_dt: 이용 일자  \n",
    "de_hr: 이용 시간  \n",
    "buy_am: 이용 금액  "
   ]
  },
  {
   "cell_type": "code",
   "execution_count": 48,
   "id": "0a864260",
   "metadata": {},
   "outputs": [
    {
     "data": {
      "text/html": [
       "<div>\n",
       "<style scoped>\n",
       "    .dataframe tbody tr th:only-of-type {\n",
       "        vertical-align: middle;\n",
       "    }\n",
       "\n",
       "    .dataframe tbody tr th {\n",
       "        vertical-align: top;\n",
       "    }\n",
       "\n",
       "    .dataframe thead th {\n",
       "        text-align: right;\n",
       "    }\n",
       "</style>\n",
       "<table border=\"1\" class=\"dataframe\">\n",
       "  <thead>\n",
       "    <tr style=\"text-align: right;\">\n",
       "      <th></th>\n",
       "      <th>cust</th>\n",
       "      <th>rct_no</th>\n",
       "      <th>cop_c</th>\n",
       "      <th>chnl_dv</th>\n",
       "      <th>de_dt</th>\n",
       "      <th>de_hr</th>\n",
       "      <th>buy_am</th>\n",
       "    </tr>\n",
       "  </thead>\n",
       "  <tbody>\n",
       "    <tr>\n",
       "      <th>0</th>\n",
       "      <td>M629656521</td>\n",
       "      <td>210803210311226</td>\n",
       "      <td>A03</td>\n",
       "      <td>1</td>\n",
       "      <td>20210803</td>\n",
       "      <td>21</td>\n",
       "      <td>10900</td>\n",
       "    </tr>\n",
       "    <tr>\n",
       "      <th>1</th>\n",
       "      <td>M216016456</td>\n",
       "      <td>210803130167542</td>\n",
       "      <td>L01</td>\n",
       "      <td>2</td>\n",
       "      <td>20210803</td>\n",
       "      <td>13</td>\n",
       "      <td>6860</td>\n",
       "    </tr>\n",
       "    <tr>\n",
       "      <th>2</th>\n",
       "      <td>M205142844</td>\n",
       "      <td>210803140275112</td>\n",
       "      <td>A02</td>\n",
       "      <td>1</td>\n",
       "      <td>20210803</td>\n",
       "      <td>14</td>\n",
       "      <td>9000</td>\n",
       "    </tr>\n",
       "    <tr>\n",
       "      <th>3</th>\n",
       "      <td>M737010483</td>\n",
       "      <td>210803040637594</td>\n",
       "      <td>A06</td>\n",
       "      <td>2</td>\n",
       "      <td>20210803</td>\n",
       "      <td>4</td>\n",
       "      <td>36740</td>\n",
       "    </tr>\n",
       "    <tr>\n",
       "      <th>4</th>\n",
       "      <td>M707775545</td>\n",
       "      <td>210803140675502</td>\n",
       "      <td>A06</td>\n",
       "      <td>2</td>\n",
       "      <td>20210803</td>\n",
       "      <td>14</td>\n",
       "      <td>138500</td>\n",
       "    </tr>\n",
       "    <tr>\n",
       "      <th>...</th>\n",
       "      <td>...</td>\n",
       "      <td>...</td>\n",
       "      <td>...</td>\n",
       "      <td>...</td>\n",
       "      <td>...</td>\n",
       "      <td>...</td>\n",
       "      <td>...</td>\n",
       "    </tr>\n",
       "    <tr>\n",
       "      <th>353179</th>\n",
       "      <td>M470112503</td>\n",
       "      <td>210125110644545</td>\n",
       "      <td>A06</td>\n",
       "      <td>2</td>\n",
       "      <td>20210125</td>\n",
       "      <td>11</td>\n",
       "      <td>51800</td>\n",
       "    </tr>\n",
       "    <tr>\n",
       "      <th>353180</th>\n",
       "      <td>M470112503</td>\n",
       "      <td>210104210652271</td>\n",
       "      <td>A06</td>\n",
       "      <td>2</td>\n",
       "      <td>20210104</td>\n",
       "      <td>21</td>\n",
       "      <td>6440</td>\n",
       "    </tr>\n",
       "    <tr>\n",
       "      <th>353181</th>\n",
       "      <td>M748878049</td>\n",
       "      <td>210119200278240</td>\n",
       "      <td>A02</td>\n",
       "      <td>1</td>\n",
       "      <td>20210119</td>\n",
       "      <td>20</td>\n",
       "      <td>17600</td>\n",
       "    </tr>\n",
       "    <tr>\n",
       "      <th>353182</th>\n",
       "      <td>M748878049</td>\n",
       "      <td>210119180267206</td>\n",
       "      <td>A02</td>\n",
       "      <td>1</td>\n",
       "      <td>20210119</td>\n",
       "      <td>18</td>\n",
       "      <td>12400</td>\n",
       "    </tr>\n",
       "    <tr>\n",
       "      <th>353183</th>\n",
       "      <td>M748878049</td>\n",
       "      <td>210119150154756</td>\n",
       "      <td>C01</td>\n",
       "      <td>2</td>\n",
       "      <td>20210119</td>\n",
       "      <td>15</td>\n",
       "      <td>5000</td>\n",
       "    </tr>\n",
       "  </tbody>\n",
       "</table>\n",
       "<p>353184 rows × 7 columns</p>\n",
       "</div>"
      ],
      "text/plain": [
       "              cust           rct_no cop_c  chnl_dv     de_dt  de_hr  buy_am\n",
       "0       M629656521  210803210311226   A03        1  20210803     21   10900\n",
       "1       M216016456  210803130167542   L01        2  20210803     13    6860\n",
       "2       M205142844  210803140275112   A02        1  20210803     14    9000\n",
       "3       M737010483  210803040637594   A06        2  20210803      4   36740\n",
       "4       M707775545  210803140675502   A06        2  20210803     14  138500\n",
       "...            ...              ...   ...      ...       ...    ...     ...\n",
       "353179  M470112503  210125110644545   A06        2  20210125     11   51800\n",
       "353180  M470112503  210104210652271   A06        2  20210104     21    6440\n",
       "353181  M748878049  210119200278240   A02        1  20210119     20   17600\n",
       "353182  M748878049  210119180267206   A02        1  20210119     18   12400\n",
       "353183  M748878049  210119150154756   C01        2  20210119     15    5000\n",
       "\n",
       "[353184 rows x 7 columns]"
      ]
     },
     "execution_count": 48,
     "metadata": {},
     "output_type": "execute_result"
    }
   ],
   "source": [
    "lpay"
   ]
  },
  {
   "cell_type": "code",
   "execution_count": 49,
   "id": "bf11e50a",
   "metadata": {},
   "outputs": [
    {
     "name": "stdout",
     "output_type": "stream",
     "text": [
      "<class 'pandas.core.frame.DataFrame'>\n",
      "RangeIndex: 353184 entries, 0 to 353183\n",
      "Data columns (total 7 columns):\n",
      " #   Column   Non-Null Count   Dtype \n",
      "---  ------   --------------   ----- \n",
      " 0   cust     353184 non-null  object\n",
      " 1   rct_no   353184 non-null  int64 \n",
      " 2   cop_c    353184 non-null  object\n",
      " 3   chnl_dv  353184 non-null  int64 \n",
      " 4   de_dt    353184 non-null  int64 \n",
      " 5   de_hr    353184 non-null  int64 \n",
      " 6   buy_am   353184 non-null  int64 \n",
      "dtypes: int64(5), object(2)\n",
      "memory usage: 18.9+ MB\n"
     ]
    }
   ],
   "source": [
    "lpay.info()"
   ]
  },
  {
   "cell_type": "code",
   "execution_count": 50,
   "id": "8835a62b",
   "metadata": {},
   "outputs": [],
   "source": [
    "lpay['rct_no'] = lpay['rct_no'].astype('str')"
   ]
  },
  {
   "cell_type": "code",
   "execution_count": 51,
   "id": "35a4f48d",
   "metadata": {
    "scrolled": true
   },
   "outputs": [
    {
     "data": {
      "image/png": "[encoded data removed]",
      "text/plain": [
       "<Figure size 432x288 with 1 Axes>"
      ]
     },
     "metadata": {},
     "output_type": "display_data"
    }
   ],
   "source": [
    "colors = cm.get_cmap('Pastel1')(np.arange(14))\n",
    "\n",
    "a = lpay.cop_c.value_counts()\n",
    "\n",
    "plt.pie(a ,                        \n",
    "       labels = a.index,            \n",
    "       autopct = '%.1f%%',         \n",
    "       startangle = 120 ,         \n",
    "       counterclock = False ,     \n",
    "       colors = colors,            \n",
    "       wedgeprops ={'width':0.7 , 'edgecolor':'w','linewidth' : 2} , \n",
    "        shadow = False ,          \n",
    "        )\n",
    "plt.axis('equal') \n",
    "plt.show()"
   ]
  },
  {
   "cell_type": "code",
   "execution_count": 52,
   "id": "8ad68d00",
   "metadata": {},
   "outputs": [
    {
     "data": {
      "text/plain": [
       "40대    169491\n",
       "30대    104743\n",
       "50대     59983\n",
       "20대     29528\n",
       "60대      9147\n",
       "70대      1299\n",
       "Name: ages, dtype: int64"
      ]
     },
     "execution_count": 52,
     "metadata": {},
     "output_type": "execute_result"
    }
   ],
   "source": [
    "pd.merge(cust_demo, lpay , how = 'left')['ages'].value_counts()"
   ]
  },
  {
   "cell_type": "code",
   "execution_count": 53,
   "id": "07637a92",
   "metadata": {},
   "outputs": [
    {
     "data": {
      "text/plain": [
       "40대    9863\n",
       "30대    7736\n",
       "50대    5633\n",
       "20대    3853\n",
       "60대    2115\n",
       "70대     713\n",
       "Name: ages, dtype: int64"
      ]
     },
     "execution_count": 53,
     "metadata": {},
     "output_type": "execute_result"
    }
   ],
   "source": [
    "cust_demo['ages'].value_counts()"
   ]
  },
  {
   "cell_type": "code",
   "execution_count": 54,
   "id": "93456b18",
   "metadata": {},
   "outputs": [
    {
     "data": {
      "text/html": [
       "<div>\n",
       "<style scoped>\n",
       "    .dataframe tbody tr th:only-of-type {\n",
       "        vertical-align: middle;\n",
       "    }\n",
       "\n",
       "    .dataframe tbody tr th {\n",
       "        vertical-align: top;\n",
       "    }\n",
       "\n",
       "    .dataframe thead th {\n",
       "        text-align: right;\n",
       "    }\n",
       "</style>\n",
       "<table border=\"1\" class=\"dataframe\">\n",
       "  <thead>\n",
       "    <tr style=\"text-align: right;\">\n",
       "      <th></th>\n",
       "      <th>cust</th>\n",
       "      <th>ma_fem_dv</th>\n",
       "      <th>ages</th>\n",
       "      <th>zon_hlv</th>\n",
       "      <th>rct_no</th>\n",
       "      <th>cop_c</th>\n",
       "      <th>chnl_dv</th>\n",
       "      <th>de_dt</th>\n",
       "      <th>de_hr</th>\n",
       "      <th>buy_am</th>\n",
       "    </tr>\n",
       "  </thead>\n",
       "  <tbody>\n",
       "    <tr>\n",
       "      <th>0</th>\n",
       "      <td>M000034966</td>\n",
       "      <td>여성</td>\n",
       "      <td>40대</td>\n",
       "      <td>Z07</td>\n",
       "      <td>NaN</td>\n",
       "      <td>NaN</td>\n",
       "      <td>NaN</td>\n",
       "      <td>NaN</td>\n",
       "      <td>NaN</td>\n",
       "      <td>NaN</td>\n",
       "    </tr>\n",
       "    <tr>\n",
       "      <th>1</th>\n",
       "      <td>M000059535</td>\n",
       "      <td>여성</td>\n",
       "      <td>30대</td>\n",
       "      <td>Z12</td>\n",
       "      <td>NaN</td>\n",
       "      <td>NaN</td>\n",
       "      <td>NaN</td>\n",
       "      <td>NaN</td>\n",
       "      <td>NaN</td>\n",
       "      <td>NaN</td>\n",
       "    </tr>\n",
       "    <tr>\n",
       "      <th>2</th>\n",
       "      <td>M000136117</td>\n",
       "      <td>여성</td>\n",
       "      <td>30대</td>\n",
       "      <td>Z11</td>\n",
       "      <td>210926220176038</td>\n",
       "      <td>D01</td>\n",
       "      <td>2.0</td>\n",
       "      <td>20210926.0</td>\n",
       "      <td>22.0</td>\n",
       "      <td>15100.0</td>\n",
       "    </tr>\n",
       "    <tr>\n",
       "      <th>3</th>\n",
       "      <td>M000136117</td>\n",
       "      <td>여성</td>\n",
       "      <td>30대</td>\n",
       "      <td>Z11</td>\n",
       "      <td>211120000687692</td>\n",
       "      <td>A06</td>\n",
       "      <td>2.0</td>\n",
       "      <td>20211120.0</td>\n",
       "      <td>0.0</td>\n",
       "      <td>177301.0</td>\n",
       "    </tr>\n",
       "    <tr>\n",
       "      <th>4</th>\n",
       "      <td>M000136117</td>\n",
       "      <td>여성</td>\n",
       "      <td>30대</td>\n",
       "      <td>Z11</td>\n",
       "      <td>210104110684235</td>\n",
       "      <td>A06</td>\n",
       "      <td>2.0</td>\n",
       "      <td>20210104.0</td>\n",
       "      <td>11.0</td>\n",
       "      <td>42600.0</td>\n",
       "    </tr>\n",
       "    <tr>\n",
       "      <th>...</th>\n",
       "      <td>...</td>\n",
       "      <td>...</td>\n",
       "      <td>...</td>\n",
       "      <td>...</td>\n",
       "      <td>...</td>\n",
       "      <td>...</td>\n",
       "      <td>...</td>\n",
       "      <td>...</td>\n",
       "      <td>...</td>\n",
       "      <td>...</td>\n",
       "    </tr>\n",
       "    <tr>\n",
       "      <th>374186</th>\n",
       "      <td>M999962961</td>\n",
       "      <td>여성</td>\n",
       "      <td>50대</td>\n",
       "      <td>Z17</td>\n",
       "      <td>210724200025828</td>\n",
       "      <td>L00</td>\n",
       "      <td>2.0</td>\n",
       "      <td>20210724.0</td>\n",
       "      <td>20.0</td>\n",
       "      <td>9156.0</td>\n",
       "    </tr>\n",
       "    <tr>\n",
       "      <th>374187</th>\n",
       "      <td>M999962961</td>\n",
       "      <td>여성</td>\n",
       "      <td>50대</td>\n",
       "      <td>Z17</td>\n",
       "      <td>210214170187495</td>\n",
       "      <td>A01</td>\n",
       "      <td>1.0</td>\n",
       "      <td>20210214.0</td>\n",
       "      <td>17.0</td>\n",
       "      <td>5500.0</td>\n",
       "    </tr>\n",
       "    <tr>\n",
       "      <th>374188</th>\n",
       "      <td>M999962961</td>\n",
       "      <td>여성</td>\n",
       "      <td>50대</td>\n",
       "      <td>Z17</td>\n",
       "      <td>210214180290789</td>\n",
       "      <td>C02</td>\n",
       "      <td>1.0</td>\n",
       "      <td>20210214.0</td>\n",
       "      <td>18.0</td>\n",
       "      <td>12700.0</td>\n",
       "    </tr>\n",
       "    <tr>\n",
       "      <th>374189</th>\n",
       "      <td>M999962961</td>\n",
       "      <td>여성</td>\n",
       "      <td>50대</td>\n",
       "      <td>Z17</td>\n",
       "      <td>210113180665862</td>\n",
       "      <td>A06</td>\n",
       "      <td>2.0</td>\n",
       "      <td>20210113.0</td>\n",
       "      <td>18.0</td>\n",
       "      <td>86380.0</td>\n",
       "    </tr>\n",
       "    <tr>\n",
       "      <th>374190</th>\n",
       "      <td>M999962961</td>\n",
       "      <td>여성</td>\n",
       "      <td>50대</td>\n",
       "      <td>Z17</td>\n",
       "      <td>210117130146991</td>\n",
       "      <td>A01</td>\n",
       "      <td>1.0</td>\n",
       "      <td>20210117.0</td>\n",
       "      <td>13.0</td>\n",
       "      <td>2600000.0</td>\n",
       "    </tr>\n",
       "  </tbody>\n",
       "</table>\n",
       "<p>374191 rows × 10 columns</p>\n",
       "</div>"
      ],
      "text/plain": [
       "              cust ma_fem_dv ages zon_hlv           rct_no cop_c  chnl_dv  \\\n",
       "0       M000034966        여성  40대     Z07              NaN   NaN      NaN   \n",
       "1       M000059535        여성  30대     Z12              NaN   NaN      NaN   \n",
       "2       M000136117        여성  30대     Z11  210926220176038   D01      2.0   \n",
       "3       M000136117        여성  30대     Z11  211120000687692   A06      2.0   \n",
       "4       M000136117        여성  30대     Z11  210104110684235   A06      2.0   \n",
       "...            ...       ...  ...     ...              ...   ...      ...   \n",
       "374186  M999962961        여성  50대     Z17  210724200025828   L00      2.0   \n",
       "374187  M999962961        여성  50대     Z17  210214170187495   A01      1.0   \n",
       "374188  M999962961        여성  50대     Z17  210214180290789   C02      1.0   \n",
       "374189  M999962961        여성  50대     Z17  210113180665862   A06      2.0   \n",
       "374190  M999962961        여성  50대     Z17  210117130146991   A01      1.0   \n",
       "\n",
       "             de_dt  de_hr     buy_am  \n",
       "0              NaN    NaN        NaN  \n",
       "1              NaN    NaN        NaN  \n",
       "2       20210926.0   22.0    15100.0  \n",
       "3       20211120.0    0.0   177301.0  \n",
       "4       20210104.0   11.0    42600.0  \n",
       "...            ...    ...        ...  \n",
       "374186  20210724.0   20.0     9156.0  \n",
       "374187  20210214.0   17.0     5500.0  \n",
       "374188  20210214.0   18.0    12700.0  \n",
       "374189  20210113.0   18.0    86380.0  \n",
       "374190  20210117.0   13.0  2600000.0  \n",
       "\n",
       "[374191 rows x 10 columns]"
      ]
     },
     "execution_count": 54,
     "metadata": {},
     "output_type": "execute_result"
    }
   ],
   "source": [
    "pd.merge(cust_demo, lpay , how = 'left')"
   ]
  },
  {
   "cell_type": "code",
   "execution_count": 55,
   "id": "cdc6ce5f",
   "metadata": {},
   "outputs": [
    {
     "data": {
      "text/plain": [
       "0        M000034966\n",
       "1        M000059535\n",
       "2        M000136117\n",
       "3        M000201112\n",
       "4        M000225114\n",
       "            ...    \n",
       "29908    M999708287\n",
       "29909    M999770689\n",
       "29910    M999849895\n",
       "29911    M999926092\n",
       "29912    M999962961\n",
       "Name: cust, Length: 29913, dtype: object"
      ]
     },
     "execution_count": 55,
     "metadata": {},
     "output_type": "execute_result"
    }
   ],
   "source": [
    "cust_demo['cust']"
   ]
  },
  {
   "cell_type": "code",
   "execution_count": 56,
   "id": "07c2b045",
   "metadata": {},
   "outputs": [
    {
     "data": {
      "text/plain": [
       "8906"
      ]
     },
     "execution_count": 56,
     "metadata": {},
     "output_type": "execute_result"
    }
   ],
   "source": [
    "lpay['cust'].nunique()"
   ]
  },
  {
   "cell_type": "code",
   "execution_count": 57,
   "id": "f5f0326e",
   "metadata": {},
   "outputs": [
    {
     "data": {
      "text/html": [
       "<div>\n",
       "<style scoped>\n",
       "    .dataframe tbody tr th:only-of-type {\n",
       "        vertical-align: middle;\n",
       "    }\n",
       "\n",
       "    .dataframe tbody tr th {\n",
       "        vertical-align: top;\n",
       "    }\n",
       "\n",
       "    .dataframe thead th {\n",
       "        text-align: right;\n",
       "    }\n",
       "</style>\n",
       "<table border=\"1\" class=\"dataframe\">\n",
       "  <thead>\n",
       "    <tr style=\"text-align: right;\">\n",
       "      <th></th>\n",
       "      <th>cust</th>\n",
       "      <th>rct_no</th>\n",
       "      <th>cop_c</th>\n",
       "      <th>chnl_dv</th>\n",
       "      <th>de_dt</th>\n",
       "      <th>de_hr</th>\n",
       "      <th>buy_am</th>\n",
       "      <th>de_dt_month</th>\n",
       "    </tr>\n",
       "  </thead>\n",
       "  <tbody>\n",
       "    <tr>\n",
       "      <th>0</th>\n",
       "      <td>M629656521</td>\n",
       "      <td>210803210311226</td>\n",
       "      <td>A03</td>\n",
       "      <td>1</td>\n",
       "      <td>20210803</td>\n",
       "      <td>21</td>\n",
       "      <td>10900</td>\n",
       "      <td>08</td>\n",
       "    </tr>\n",
       "    <tr>\n",
       "      <th>1</th>\n",
       "      <td>M216016456</td>\n",
       "      <td>210803130167542</td>\n",
       "      <td>L01</td>\n",
       "      <td>2</td>\n",
       "      <td>20210803</td>\n",
       "      <td>13</td>\n",
       "      <td>6860</td>\n",
       "      <td>08</td>\n",
       "    </tr>\n",
       "    <tr>\n",
       "      <th>2</th>\n",
       "      <td>M205142844</td>\n",
       "      <td>210803140275112</td>\n",
       "      <td>A02</td>\n",
       "      <td>1</td>\n",
       "      <td>20210803</td>\n",
       "      <td>14</td>\n",
       "      <td>9000</td>\n",
       "      <td>08</td>\n",
       "    </tr>\n",
       "    <tr>\n",
       "      <th>3</th>\n",
       "      <td>M737010483</td>\n",
       "      <td>210803040637594</td>\n",
       "      <td>A06</td>\n",
       "      <td>2</td>\n",
       "      <td>20210803</td>\n",
       "      <td>4</td>\n",
       "      <td>36740</td>\n",
       "      <td>08</td>\n",
       "    </tr>\n",
       "    <tr>\n",
       "      <th>4</th>\n",
       "      <td>M707775545</td>\n",
       "      <td>210803140675502</td>\n",
       "      <td>A06</td>\n",
       "      <td>2</td>\n",
       "      <td>20210803</td>\n",
       "      <td>14</td>\n",
       "      <td>138500</td>\n",
       "      <td>08</td>\n",
       "    </tr>\n",
       "    <tr>\n",
       "      <th>...</th>\n",
       "      <td>...</td>\n",
       "      <td>...</td>\n",
       "      <td>...</td>\n",
       "      <td>...</td>\n",
       "      <td>...</td>\n",
       "      <td>...</td>\n",
       "      <td>...</td>\n",
       "      <td>...</td>\n",
       "    </tr>\n",
       "    <tr>\n",
       "      <th>353179</th>\n",
       "      <td>M470112503</td>\n",
       "      <td>210125110644545</td>\n",
       "      <td>A06</td>\n",
       "      <td>2</td>\n",
       "      <td>20210125</td>\n",
       "      <td>11</td>\n",
       "      <td>51800</td>\n",
       "      <td>01</td>\n",
       "    </tr>\n",
       "    <tr>\n",
       "      <th>353180</th>\n",
       "      <td>M470112503</td>\n",
       "      <td>210104210652271</td>\n",
       "      <td>A06</td>\n",
       "      <td>2</td>\n",
       "      <td>20210104</td>\n",
       "      <td>21</td>\n",
       "      <td>6440</td>\n",
       "      <td>01</td>\n",
       "    </tr>\n",
       "    <tr>\n",
       "      <th>353181</th>\n",
       "      <td>M748878049</td>\n",
       "      <td>210119200278240</td>\n",
       "      <td>A02</td>\n",
       "      <td>1</td>\n",
       "      <td>20210119</td>\n",
       "      <td>20</td>\n",
       "      <td>17600</td>\n",
       "      <td>01</td>\n",
       "    </tr>\n",
       "    <tr>\n",
       "      <th>353182</th>\n",
       "      <td>M748878049</td>\n",
       "      <td>210119180267206</td>\n",
       "      <td>A02</td>\n",
       "      <td>1</td>\n",
       "      <td>20210119</td>\n",
       "      <td>18</td>\n",
       "      <td>12400</td>\n",
       "      <td>01</td>\n",
       "    </tr>\n",
       "    <tr>\n",
       "      <th>353183</th>\n",
       "      <td>M748878049</td>\n",
       "      <td>210119150154756</td>\n",
       "      <td>C01</td>\n",
       "      <td>2</td>\n",
       "      <td>20210119</td>\n",
       "      <td>15</td>\n",
       "      <td>5000</td>\n",
       "      <td>01</td>\n",
       "    </tr>\n",
       "  </tbody>\n",
       "</table>\n",
       "<p>353184 rows × 8 columns</p>\n",
       "</div>"
      ],
      "text/plain": [
       "              cust           rct_no cop_c  chnl_dv     de_dt  de_hr  buy_am  \\\n",
       "0       M629656521  210803210311226   A03        1  20210803     21   10900   \n",
       "1       M216016456  210803130167542   L01        2  20210803     13    6860   \n",
       "2       M205142844  210803140275112   A02        1  20210803     14    9000   \n",
       "3       M737010483  210803040637594   A06        2  20210803      4   36740   \n",
       "4       M707775545  210803140675502   A06        2  20210803     14  138500   \n",
       "...            ...              ...   ...      ...       ...    ...     ...   \n",
       "353179  M470112503  210125110644545   A06        2  20210125     11   51800   \n",
       "353180  M470112503  210104210652271   A06        2  20210104     21    6440   \n",
       "353181  M748878049  210119200278240   A02        1  20210119     20   17600   \n",
       "353182  M748878049  210119180267206   A02        1  20210119     18   12400   \n",
       "353183  M748878049  210119150154756   C01        2  20210119     15    5000   \n",
       "\n",
       "       de_dt_month  \n",
       "0               08  \n",
       "1               08  \n",
       "2               08  \n",
       "3               08  \n",
       "4               08  \n",
       "...            ...  \n",
       "353179          01  \n",
       "353180          01  \n",
       "353181          01  \n",
       "353182          01  \n",
       "353183          01  \n",
       "\n",
       "[353184 rows x 8 columns]"
      ]
     },
     "execution_count": 57,
     "metadata": {},
     "output_type": "execute_result"
    }
   ],
   "source": [
    "lpay['de_dt_month'] = lpay['de_dt'].astype('str').apply(lambda x : x[4:6]) ; lpay"
   ]
  },
  {
   "cell_type": "code",
   "execution_count": 58,
   "id": "baaa5398",
   "metadata": {},
   "outputs": [
    {
     "data": {
      "text/plain": [
       "<AxesSubplot:xlabel='de_dt_month'>"
      ]
     },
     "execution_count": 58,
     "metadata": {},
     "output_type": "execute_result"
    },
    {
     "data": {
      "image/png": "[encoded data removed]",
      "text/plain": [
       "<Figure size 432x288 with 1 Axes>"
      ]
     },
     "metadata": {
      "needs_background": "light"
     },
     "output_type": "display_data"
    }
   ],
   "source": [
    "lpay.groupby('de_dt_month')['buy_am'].sum().plot.bar()"
   ]
  },
  {
   "cell_type": "code",
   "execution_count": 59,
   "id": "75bc524a",
   "metadata": {},
   "outputs": [
    {
     "data": {
      "image/png": "[encoded data removed]",
      "text/plain": [
       "<Figure size 432x288 with 1 Axes>"
      ]
     },
     "metadata": {
      "needs_background": "light"
     },
     "output_type": "display_data"
    }
   ],
   "source": [
    "pd.pivot_table(lpay, index = \"de_dt_month\", columns = \"cop_c\", values = \"buy_am\", aggfunc = \"sum\").plot.bar()\n",
    "plt.show()"
   ]
  },
  {
   "cell_type": "code",
   "execution_count": 60,
   "id": "cd15a6f5",
   "metadata": {
    "scrolled": false
   },
   "outputs": [
    {
     "data": {
      "image/png": "[encoded data removed]",
      "text/plain": [
       "<Figure size 720x4320 with 14 Axes>"
      ]
     },
     "metadata": {
      "needs_background": "light"
     },
     "output_type": "display_data"
    }
   ],
   "source": [
    "cop_c = ['A01', 'A02', 'A03', 'A04', 'A05', 'A06','B01', 'C01', 'C02', 'D01', 'D02', 'E01', 'L00', 'L01']\n",
    "n = 1 \n",
    "\n",
    "plt.figure(figsize=(10,60))\n",
    "\n",
    "for i in cop_c : \n",
    "    data = lpay[lpay['cop_c'] == i ]\n",
    "    ax = plt.subplot(14,3,n)\n",
    "    data.groupby('de_dt_month')['buy_am'].sum().plot.bar()\n",
    "    plt.title(i)\n",
    "    n += 1 \n",
    "    \n",
    "plt.tight_layout()\n",
    "plt.show()"
   ]
  },
  {
   "cell_type": "code",
   "execution_count": null,
   "id": "a8e9c770",
   "metadata": {},
   "outputs": [],
   "source": []
  },
  {
   "cell_type": "code",
   "execution_count": null,
   "id": "6413c35a",
   "metadata": {},
   "outputs": [],
   "source": []
  },
  {
   "cell_type": "code",
   "execution_count": 61,
   "id": "ddef67b9",
   "metadata": {},
   "outputs": [
    {
     "data": {
      "text/html": [
       "<div>\n",
       "<style scoped>\n",
       "    .dataframe tbody tr th:only-of-type {\n",
       "        vertical-align: middle;\n",
       "    }\n",
       "\n",
       "    .dataframe tbody tr th {\n",
       "        vertical-align: top;\n",
       "    }\n",
       "\n",
       "    .dataframe thead th {\n",
       "        text-align: right;\n",
       "    }\n",
       "</style>\n",
       "<table border=\"1\" class=\"dataframe\">\n",
       "  <thead>\n",
       "    <tr style=\"text-align: right;\">\n",
       "      <th></th>\n",
       "      <th>cust</th>\n",
       "      <th>rct_no</th>\n",
       "      <th>chnl_dv</th>\n",
       "      <th>cop_c</th>\n",
       "      <th>br_c</th>\n",
       "      <th>pd_c</th>\n",
       "      <th>de_dt</th>\n",
       "      <th>de_hr</th>\n",
       "      <th>buy_am</th>\n",
       "      <th>buy_ct</th>\n",
       "      <th>pd_nm</th>\n",
       "      <th>clac_hlv_nm</th>\n",
       "      <th>clac_mcls_nm</th>\n",
       "      <th>ma_fem_dv</th>\n",
       "      <th>ages</th>\n",
       "      <th>zon_hlv</th>\n",
       "      <th>de_dt_month</th>\n",
       "    </tr>\n",
       "  </thead>\n",
       "  <tbody>\n",
       "    <tr>\n",
       "      <th>0</th>\n",
       "      <td>M430112881</td>\n",
       "      <td>A01000001113</td>\n",
       "      <td>1</td>\n",
       "      <td>A01</td>\n",
       "      <td>A010039</td>\n",
       "      <td>PD0290</td>\n",
       "      <td>20210101</td>\n",
       "      <td>10</td>\n",
       "      <td>15000.0</td>\n",
       "      <td>1</td>\n",
       "      <td>남성티셔츠</td>\n",
       "      <td>남성의류</td>\n",
       "      <td>남성의류상의</td>\n",
       "      <td>여성</td>\n",
       "      <td>50대</td>\n",
       "      <td>Z17</td>\n",
       "      <td>01</td>\n",
       "    </tr>\n",
       "    <tr>\n",
       "      <th>1</th>\n",
       "      <td>M646853852</td>\n",
       "      <td>A01000002265</td>\n",
       "      <td>1</td>\n",
       "      <td>A01</td>\n",
       "      <td>A010025</td>\n",
       "      <td>PD1369</td>\n",
       "      <td>20210101</td>\n",
       "      <td>10</td>\n",
       "      <td>79700.0</td>\n",
       "      <td>1</td>\n",
       "      <td>기타주방일회용품</td>\n",
       "      <td>주방잡화</td>\n",
       "      <td>주방일회용품</td>\n",
       "      <td>여성</td>\n",
       "      <td>40대</td>\n",
       "      <td>Z13</td>\n",
       "      <td>01</td>\n",
       "    </tr>\n",
       "    <tr>\n",
       "      <th>2</th>\n",
       "      <td>M430112881</td>\n",
       "      <td>A01000003148</td>\n",
       "      <td>1</td>\n",
       "      <td>A01</td>\n",
       "      <td>A010039</td>\n",
       "      <td>PD0290</td>\n",
       "      <td>20210101</td>\n",
       "      <td>10</td>\n",
       "      <td>19000.0</td>\n",
       "      <td>1</td>\n",
       "      <td>남성티셔츠</td>\n",
       "      <td>남성의류</td>\n",
       "      <td>남성의류상의</td>\n",
       "      <td>여성</td>\n",
       "      <td>50대</td>\n",
       "      <td>Z17</td>\n",
       "      <td>01</td>\n",
       "    </tr>\n",
       "    <tr>\n",
       "      <th>3</th>\n",
       "      <td>M430112881</td>\n",
       "      <td>A01000003148</td>\n",
       "      <td>1</td>\n",
       "      <td>A01</td>\n",
       "      <td>A010039</td>\n",
       "      <td>PD0290</td>\n",
       "      <td>20210101</td>\n",
       "      <td>10</td>\n",
       "      <td>19000.0</td>\n",
       "      <td>1</td>\n",
       "      <td>남성티셔츠</td>\n",
       "      <td>남성의류</td>\n",
       "      <td>남성의류상의</td>\n",
       "      <td>여성</td>\n",
       "      <td>50대</td>\n",
       "      <td>Z17</td>\n",
       "      <td>01</td>\n",
       "    </tr>\n",
       "    <tr>\n",
       "      <th>4</th>\n",
       "      <td>M430112881</td>\n",
       "      <td>A01000004946</td>\n",
       "      <td>1</td>\n",
       "      <td>A01</td>\n",
       "      <td>A010039</td>\n",
       "      <td>PD0290</td>\n",
       "      <td>20210101</td>\n",
       "      <td>10</td>\n",
       "      <td>19000.0</td>\n",
       "      <td>1</td>\n",
       "      <td>남성티셔츠</td>\n",
       "      <td>남성의류</td>\n",
       "      <td>남성의류상의</td>\n",
       "      <td>여성</td>\n",
       "      <td>50대</td>\n",
       "      <td>Z17</td>\n",
       "      <td>01</td>\n",
       "    </tr>\n",
       "    <tr>\n",
       "      <th>...</th>\n",
       "      <td>...</td>\n",
       "      <td>...</td>\n",
       "      <td>...</td>\n",
       "      <td>...</td>\n",
       "      <td>...</td>\n",
       "      <td>...</td>\n",
       "      <td>...</td>\n",
       "      <td>...</td>\n",
       "      <td>...</td>\n",
       "      <td>...</td>\n",
       "      <td>...</td>\n",
       "      <td>...</td>\n",
       "      <td>...</td>\n",
       "      <td>...</td>\n",
       "      <td>...</td>\n",
       "      <td>...</td>\n",
       "      <td>...</td>\n",
       "    </tr>\n",
       "    <tr>\n",
       "      <th>4381738</th>\n",
       "      <td>M533286446</td>\n",
       "      <td>E06052119978</td>\n",
       "      <td>2</td>\n",
       "      <td>A06</td>\n",
       "      <td>NaN</td>\n",
       "      <td>PD0507</td>\n",
       "      <td>20211231</td>\n",
       "      <td>23</td>\n",
       "      <td>50000.0</td>\n",
       "      <td>1</td>\n",
       "      <td>백화점/마트모바일상품권</td>\n",
       "      <td>상품권</td>\n",
       "      <td>모바일상품권</td>\n",
       "      <td>남성</td>\n",
       "      <td>40대</td>\n",
       "      <td>Z10</td>\n",
       "      <td>12</td>\n",
       "    </tr>\n",
       "    <tr>\n",
       "      <th>4381739</th>\n",
       "      <td>M533286446</td>\n",
       "      <td>E06052119978</td>\n",
       "      <td>2</td>\n",
       "      <td>A06</td>\n",
       "      <td>NaN</td>\n",
       "      <td>PD0507</td>\n",
       "      <td>20211231</td>\n",
       "      <td>23</td>\n",
       "      <td>50000.0</td>\n",
       "      <td>1</td>\n",
       "      <td>백화점/마트모바일상품권</td>\n",
       "      <td>상품권</td>\n",
       "      <td>모바일상품권</td>\n",
       "      <td>남성</td>\n",
       "      <td>40대</td>\n",
       "      <td>Z10</td>\n",
       "      <td>12</td>\n",
       "    </tr>\n",
       "    <tr>\n",
       "      <th>4381740</th>\n",
       "      <td>M533286446</td>\n",
       "      <td>E06052119978</td>\n",
       "      <td>2</td>\n",
       "      <td>A06</td>\n",
       "      <td>NaN</td>\n",
       "      <td>PD0507</td>\n",
       "      <td>20211231</td>\n",
       "      <td>23</td>\n",
       "      <td>50000.0</td>\n",
       "      <td>1</td>\n",
       "      <td>백화점/마트모바일상품권</td>\n",
       "      <td>상품권</td>\n",
       "      <td>모바일상품권</td>\n",
       "      <td>남성</td>\n",
       "      <td>40대</td>\n",
       "      <td>Z10</td>\n",
       "      <td>12</td>\n",
       "    </tr>\n",
       "    <tr>\n",
       "      <th>4381741</th>\n",
       "      <td>M533286446</td>\n",
       "      <td>E06052119978</td>\n",
       "      <td>2</td>\n",
       "      <td>A06</td>\n",
       "      <td>NaN</td>\n",
       "      <td>PD0507</td>\n",
       "      <td>20211231</td>\n",
       "      <td>23</td>\n",
       "      <td>50000.0</td>\n",
       "      <td>1</td>\n",
       "      <td>백화점/마트모바일상품권</td>\n",
       "      <td>상품권</td>\n",
       "      <td>모바일상품권</td>\n",
       "      <td>남성</td>\n",
       "      <td>40대</td>\n",
       "      <td>Z10</td>\n",
       "      <td>12</td>\n",
       "    </tr>\n",
       "    <tr>\n",
       "      <th>4381742</th>\n",
       "      <td>M533286446</td>\n",
       "      <td>E06052119978</td>\n",
       "      <td>2</td>\n",
       "      <td>A06</td>\n",
       "      <td>NaN</td>\n",
       "      <td>PD0507</td>\n",
       "      <td>20211231</td>\n",
       "      <td>23</td>\n",
       "      <td>50000.0</td>\n",
       "      <td>1</td>\n",
       "      <td>백화점/마트모바일상품권</td>\n",
       "      <td>상품권</td>\n",
       "      <td>모바일상품권</td>\n",
       "      <td>남성</td>\n",
       "      <td>40대</td>\n",
       "      <td>Z10</td>\n",
       "      <td>12</td>\n",
       "    </tr>\n",
       "  </tbody>\n",
       "</table>\n",
       "<p>4381743 rows × 17 columns</p>\n",
       "</div>"
      ],
      "text/plain": [
       "               cust        rct_no  chnl_dv cop_c     br_c    pd_c     de_dt  \\\n",
       "0        M430112881  A01000001113        1   A01  A010039  PD0290  20210101   \n",
       "1        M646853852  A01000002265        1   A01  A010025  PD1369  20210101   \n",
       "2        M430112881  A01000003148        1   A01  A010039  PD0290  20210101   \n",
       "3        M430112881  A01000003148        1   A01  A010039  PD0290  20210101   \n",
       "4        M430112881  A01000004946        1   A01  A010039  PD0290  20210101   \n",
       "...             ...           ...      ...   ...      ...     ...       ...   \n",
       "4381738  M533286446  E06052119978        2   A06      NaN  PD0507  20211231   \n",
       "4381739  M533286446  E06052119978        2   A06      NaN  PD0507  20211231   \n",
       "4381740  M533286446  E06052119978        2   A06      NaN  PD0507  20211231   \n",
       "4381741  M533286446  E06052119978        2   A06      NaN  PD0507  20211231   \n",
       "4381742  M533286446  E06052119978        2   A06      NaN  PD0507  20211231   \n",
       "\n",
       "         de_hr   buy_am  buy_ct         pd_nm clac_hlv_nm clac_mcls_nm  \\\n",
       "0           10  15000.0       1         남성티셔츠        남성의류       남성의류상의   \n",
       "1           10  79700.0       1      기타주방일회용품        주방잡화       주방일회용품   \n",
       "2           10  19000.0       1         남성티셔츠        남성의류       남성의류상의   \n",
       "3           10  19000.0       1         남성티셔츠        남성의류       남성의류상의   \n",
       "4           10  19000.0       1         남성티셔츠        남성의류       남성의류상의   \n",
       "...        ...      ...     ...           ...         ...          ...   \n",
       "4381738     23  50000.0       1  백화점/마트모바일상품권         상품권       모바일상품권   \n",
       "4381739     23  50000.0       1  백화점/마트모바일상품권         상품권       모바일상품권   \n",
       "4381740     23  50000.0       1  백화점/마트모바일상품권         상품권       모바일상품권   \n",
       "4381741     23  50000.0       1  백화점/마트모바일상품권         상품권       모바일상품권   \n",
       "4381742     23  50000.0       1  백화점/마트모바일상품권         상품권       모바일상품권   \n",
       "\n",
       "        ma_fem_dv ages zon_hlv de_dt_month  \n",
       "0              여성  50대     Z17          01  \n",
       "1              여성  40대     Z13          01  \n",
       "2              여성  50대     Z17          01  \n",
       "3              여성  50대     Z17          01  \n",
       "4              여성  50대     Z17          01  \n",
       "...           ...  ...     ...         ...  \n",
       "4381738        남성  40대     Z10          12  \n",
       "4381739        남성  40대     Z10          12  \n",
       "4381740        남성  40대     Z10          12  \n",
       "4381741        남성  40대     Z10          12  \n",
       "4381742        남성  40대     Z10          12  \n",
       "\n",
       "[4381743 rows x 17 columns]"
      ]
     },
     "execution_count": 61,
     "metadata": {},
     "output_type": "execute_result"
    }
   ],
   "source": [
    "df = pd.merge( pd.merge( prod_buy , prod_cat , how = 'left') , cust_demo , how = 'left' )\n",
    "df['de_dt_month'] = df['de_dt'].astype('str').apply(lambda x : x[4:6]) ; df"
   ]
  },
  {
   "cell_type": "code",
   "execution_count": 62,
   "id": "d5120d03",
   "metadata": {
    "scrolled": true
   },
   "outputs": [
    {
     "data": {
      "text/html": [
       "<div>\n",
       "<style scoped>\n",
       "    .dataframe tbody tr th:only-of-type {\n",
       "        vertical-align: middle;\n",
       "    }\n",
       "\n",
       "    .dataframe tbody tr th {\n",
       "        vertical-align: top;\n",
       "    }\n",
       "\n",
       "    .dataframe thead th {\n",
       "        text-align: right;\n",
       "    }\n",
       "</style>\n",
       "<table border=\"1\" class=\"dataframe\">\n",
       "  <thead>\n",
       "    <tr style=\"text-align: right;\">\n",
       "      <th></th>\n",
       "      <th>cust</th>\n",
       "      <th>rct_no</th>\n",
       "      <th>chnl_dv</th>\n",
       "      <th>cop_c</th>\n",
       "      <th>br_c</th>\n",
       "      <th>pd_c</th>\n",
       "      <th>de_dt</th>\n",
       "      <th>de_hr</th>\n",
       "      <th>buy_am</th>\n",
       "      <th>buy_ct</th>\n",
       "      <th>pd_nm</th>\n",
       "      <th>clac_hlv_nm</th>\n",
       "      <th>clac_mcls_nm</th>\n",
       "      <th>ma_fem_dv</th>\n",
       "      <th>ages</th>\n",
       "      <th>zon_hlv</th>\n",
       "      <th>de_dt_month</th>\n",
       "    </tr>\n",
       "  </thead>\n",
       "  <tbody>\n",
       "    <tr>\n",
       "      <th>0</th>\n",
       "      <td>M430112881</td>\n",
       "      <td>A01000001113</td>\n",
       "      <td>1</td>\n",
       "      <td>A01</td>\n",
       "      <td>A010039</td>\n",
       "      <td>PD0290</td>\n",
       "      <td>20210101</td>\n",
       "      <td>10</td>\n",
       "      <td>15000.0</td>\n",
       "      <td>1</td>\n",
       "      <td>남성티셔츠</td>\n",
       "      <td>남성의류</td>\n",
       "      <td>남성의류상의</td>\n",
       "      <td>여성</td>\n",
       "      <td>50대</td>\n",
       "      <td>Z17</td>\n",
       "      <td>01</td>\n",
       "    </tr>\n",
       "    <tr>\n",
       "      <th>1</th>\n",
       "      <td>M646853852</td>\n",
       "      <td>A01000002265</td>\n",
       "      <td>1</td>\n",
       "      <td>A01</td>\n",
       "      <td>A010025</td>\n",
       "      <td>PD1369</td>\n",
       "      <td>20210101</td>\n",
       "      <td>10</td>\n",
       "      <td>79700.0</td>\n",
       "      <td>1</td>\n",
       "      <td>기타주방일회용품</td>\n",
       "      <td>주방잡화</td>\n",
       "      <td>주방일회용품</td>\n",
       "      <td>여성</td>\n",
       "      <td>40대</td>\n",
       "      <td>Z13</td>\n",
       "      <td>01</td>\n",
       "    </tr>\n",
       "    <tr>\n",
       "      <th>2</th>\n",
       "      <td>M430112881</td>\n",
       "      <td>A01000003148</td>\n",
       "      <td>1</td>\n",
       "      <td>A01</td>\n",
       "      <td>A010039</td>\n",
       "      <td>PD0290</td>\n",
       "      <td>20210101</td>\n",
       "      <td>10</td>\n",
       "      <td>19000.0</td>\n",
       "      <td>1</td>\n",
       "      <td>남성티셔츠</td>\n",
       "      <td>남성의류</td>\n",
       "      <td>남성의류상의</td>\n",
       "      <td>여성</td>\n",
       "      <td>50대</td>\n",
       "      <td>Z17</td>\n",
       "      <td>01</td>\n",
       "    </tr>\n",
       "    <tr>\n",
       "      <th>3</th>\n",
       "      <td>M430112881</td>\n",
       "      <td>A01000003148</td>\n",
       "      <td>1</td>\n",
       "      <td>A01</td>\n",
       "      <td>A010039</td>\n",
       "      <td>PD0290</td>\n",
       "      <td>20210101</td>\n",
       "      <td>10</td>\n",
       "      <td>19000.0</td>\n",
       "      <td>1</td>\n",
       "      <td>남성티셔츠</td>\n",
       "      <td>남성의류</td>\n",
       "      <td>남성의류상의</td>\n",
       "      <td>여성</td>\n",
       "      <td>50대</td>\n",
       "      <td>Z17</td>\n",
       "      <td>01</td>\n",
       "    </tr>\n",
       "    <tr>\n",
       "      <th>4</th>\n",
       "      <td>M430112881</td>\n",
       "      <td>A01000004946</td>\n",
       "      <td>1</td>\n",
       "      <td>A01</td>\n",
       "      <td>A010039</td>\n",
       "      <td>PD0290</td>\n",
       "      <td>20210101</td>\n",
       "      <td>10</td>\n",
       "      <td>19000.0</td>\n",
       "      <td>1</td>\n",
       "      <td>남성티셔츠</td>\n",
       "      <td>남성의류</td>\n",
       "      <td>남성의류상의</td>\n",
       "      <td>여성</td>\n",
       "      <td>50대</td>\n",
       "      <td>Z17</td>\n",
       "      <td>01</td>\n",
       "    </tr>\n",
       "    <tr>\n",
       "      <th>...</th>\n",
       "      <td>...</td>\n",
       "      <td>...</td>\n",
       "      <td>...</td>\n",
       "      <td>...</td>\n",
       "      <td>...</td>\n",
       "      <td>...</td>\n",
       "      <td>...</td>\n",
       "      <td>...</td>\n",
       "      <td>...</td>\n",
       "      <td>...</td>\n",
       "      <td>...</td>\n",
       "      <td>...</td>\n",
       "      <td>...</td>\n",
       "      <td>...</td>\n",
       "      <td>...</td>\n",
       "      <td>...</td>\n",
       "      <td>...</td>\n",
       "    </tr>\n",
       "    <tr>\n",
       "      <th>4381738</th>\n",
       "      <td>M533286446</td>\n",
       "      <td>E06052119978</td>\n",
       "      <td>2</td>\n",
       "      <td>A06</td>\n",
       "      <td>NaN</td>\n",
       "      <td>PD0507</td>\n",
       "      <td>20211231</td>\n",
       "      <td>23</td>\n",
       "      <td>50000.0</td>\n",
       "      <td>1</td>\n",
       "      <td>백화점/마트모바일상품권</td>\n",
       "      <td>상품권</td>\n",
       "      <td>모바일상품권</td>\n",
       "      <td>남성</td>\n",
       "      <td>40대</td>\n",
       "      <td>Z10</td>\n",
       "      <td>12</td>\n",
       "    </tr>\n",
       "    <tr>\n",
       "      <th>4381739</th>\n",
       "      <td>M533286446</td>\n",
       "      <td>E06052119978</td>\n",
       "      <td>2</td>\n",
       "      <td>A06</td>\n",
       "      <td>NaN</td>\n",
       "      <td>PD0507</td>\n",
       "      <td>20211231</td>\n",
       "      <td>23</td>\n",
       "      <td>50000.0</td>\n",
       "      <td>1</td>\n",
       "      <td>백화점/마트모바일상품권</td>\n",
       "      <td>상품권</td>\n",
       "      <td>모바일상품권</td>\n",
       "      <td>남성</td>\n",
       "      <td>40대</td>\n",
       "      <td>Z10</td>\n",
       "      <td>12</td>\n",
       "    </tr>\n",
       "    <tr>\n",
       "      <th>4381740</th>\n",
       "      <td>M533286446</td>\n",
       "      <td>E06052119978</td>\n",
       "      <td>2</td>\n",
       "      <td>A06</td>\n",
       "      <td>NaN</td>\n",
       "      <td>PD0507</td>\n",
       "      <td>20211231</td>\n",
       "      <td>23</td>\n",
       "      <td>50000.0</td>\n",
       "      <td>1</td>\n",
       "      <td>백화점/마트모바일상품권</td>\n",
       "      <td>상품권</td>\n",
       "      <td>모바일상품권</td>\n",
       "      <td>남성</td>\n",
       "      <td>40대</td>\n",
       "      <td>Z10</td>\n",
       "      <td>12</td>\n",
       "    </tr>\n",
       "    <tr>\n",
       "      <th>4381741</th>\n",
       "      <td>M533286446</td>\n",
       "      <td>E06052119978</td>\n",
       "      <td>2</td>\n",
       "      <td>A06</td>\n",
       "      <td>NaN</td>\n",
       "      <td>PD0507</td>\n",
       "      <td>20211231</td>\n",
       "      <td>23</td>\n",
       "      <td>50000.0</td>\n",
       "      <td>1</td>\n",
       "      <td>백화점/마트모바일상품권</td>\n",
       "      <td>상품권</td>\n",
       "      <td>모바일상품권</td>\n",
       "      <td>남성</td>\n",
       "      <td>40대</td>\n",
       "      <td>Z10</td>\n",
       "      <td>12</td>\n",
       "    </tr>\n",
       "    <tr>\n",
       "      <th>4381742</th>\n",
       "      <td>M533286446</td>\n",
       "      <td>E06052119978</td>\n",
       "      <td>2</td>\n",
       "      <td>A06</td>\n",
       "      <td>NaN</td>\n",
       "      <td>PD0507</td>\n",
       "      <td>20211231</td>\n",
       "      <td>23</td>\n",
       "      <td>50000.0</td>\n",
       "      <td>1</td>\n",
       "      <td>백화점/마트모바일상품권</td>\n",
       "      <td>상품권</td>\n",
       "      <td>모바일상품권</td>\n",
       "      <td>남성</td>\n",
       "      <td>40대</td>\n",
       "      <td>Z10</td>\n",
       "      <td>12</td>\n",
       "    </tr>\n",
       "  </tbody>\n",
       "</table>\n",
       "<p>4381743 rows × 17 columns</p>\n",
       "</div>"
      ],
      "text/plain": [
       "               cust        rct_no  chnl_dv cop_c     br_c    pd_c     de_dt  \\\n",
       "0        M430112881  A01000001113        1   A01  A010039  PD0290  20210101   \n",
       "1        M646853852  A01000002265        1   A01  A010025  PD1369  20210101   \n",
       "2        M430112881  A01000003148        1   A01  A010039  PD0290  20210101   \n",
       "3        M430112881  A01000003148        1   A01  A010039  PD0290  20210101   \n",
       "4        M430112881  A01000004946        1   A01  A010039  PD0290  20210101   \n",
       "...             ...           ...      ...   ...      ...     ...       ...   \n",
       "4381738  M533286446  E06052119978        2   A06      NaN  PD0507  20211231   \n",
       "4381739  M533286446  E06052119978        2   A06      NaN  PD0507  20211231   \n",
       "4381740  M533286446  E06052119978        2   A06      NaN  PD0507  20211231   \n",
       "4381741  M533286446  E06052119978        2   A06      NaN  PD0507  20211231   \n",
       "4381742  M533286446  E06052119978        2   A06      NaN  PD0507  20211231   \n",
       "\n",
       "         de_hr   buy_am  buy_ct         pd_nm clac_hlv_nm clac_mcls_nm  \\\n",
       "0           10  15000.0       1         남성티셔츠        남성의류       남성의류상의   \n",
       "1           10  79700.0       1      기타주방일회용품        주방잡화       주방일회용품   \n",
       "2           10  19000.0       1         남성티셔츠        남성의류       남성의류상의   \n",
       "3           10  19000.0       1         남성티셔츠        남성의류       남성의류상의   \n",
       "4           10  19000.0       1         남성티셔츠        남성의류       남성의류상의   \n",
       "...        ...      ...     ...           ...         ...          ...   \n",
       "4381738     23  50000.0       1  백화점/마트모바일상품권         상품권       모바일상품권   \n",
       "4381739     23  50000.0       1  백화점/마트모바일상품권         상품권       모바일상품권   \n",
       "4381740     23  50000.0       1  백화점/마트모바일상품권         상품권       모바일상품권   \n",
       "4381741     23  50000.0       1  백화점/마트모바일상품권         상품권       모바일상품권   \n",
       "4381742     23  50000.0       1  백화점/마트모바일상품권         상품권       모바일상품권   \n",
       "\n",
       "        ma_fem_dv ages zon_hlv de_dt_month  \n",
       "0              여성  50대     Z17          01  \n",
       "1              여성  40대     Z13          01  \n",
       "2              여성  50대     Z17          01  \n",
       "3              여성  50대     Z17          01  \n",
       "4              여성  50대     Z17          01  \n",
       "...           ...  ...     ...         ...  \n",
       "4381738        남성  40대     Z10          12  \n",
       "4381739        남성  40대     Z10          12  \n",
       "4381740        남성  40대     Z10          12  \n",
       "4381741        남성  40대     Z10          12  \n",
       "4381742        남성  40대     Z10          12  \n",
       "\n",
       "[4381743 rows x 17 columns]"
      ]
     },
     "execution_count": 62,
     "metadata": {},
     "output_type": "execute_result"
    }
   ],
   "source": [
    "df"
   ]
  },
  {
   "cell_type": "code",
   "execution_count": 63,
   "id": "717eff31",
   "metadata": {},
   "outputs": [
    {
     "data": {
      "image/png": "[encoded data removed]",
      "text/plain": [
       "<Figure size 432x288 with 1 Axes>"
      ]
     },
     "metadata": {
      "needs_background": "light"
     },
     "output_type": "display_data"
    }
   ],
   "source": [
    "df['clac_hlv_nm'].value_counts().plot.bar()\n",
    "plt.show()"
   ]
  },
  {
   "cell_type": "code",
   "execution_count": 64,
   "id": "3052763d",
   "metadata": {},
   "outputs": [
    {
     "data": {
      "text/plain": [
       "<Figure size 864x576 with 0 Axes>"
      ]
     },
     "metadata": {},
     "output_type": "display_data"
    },
    {
     "data": {
      "image/png": "[encoded data removed]",
      "text/plain": [
       "<Figure size 432x288 with 1 Axes>"
      ]
     },
     "metadata": {
      "needs_background": "light"
     },
     "output_type": "display_data"
    }
   ],
   "source": [
    "plt.figure(figsize=(12,8))\n",
    "\n",
    "pd.pivot_table(df, index = \"clac_hlv_nm\", columns = \"ages\", values = \"cust\", \n",
    "               aggfunc = \"count\").plot.bar(stacked = True )\n",
    "\n",
    "plt.xticks(rotation=90)  \n",
    "plt.show()"
   ]
  },
  {
   "cell_type": "code",
   "execution_count": 65,
   "id": "a0709ee4",
   "metadata": {
    "scrolled": false
   },
   "outputs": [
    {
     "data": {
      "image/png": "[encoded data removed]",
      "text/plain": [
       "<Figure size 720x5760 with 60 Axes>"
      ]
     },
     "metadata": {
      "needs_background": "light"
     },
     "output_type": "display_data"
    }
   ],
   "source": [
    "clac_hlv_nm = df['clac_hlv_nm'].unique()\n",
    "n = 1 \n",
    "\n",
    "plt.figure(figsize=(10,80))\n",
    "\n",
    "for i in clac_hlv_nm : \n",
    "    data = df[df['clac_hlv_nm'] == i ]\n",
    "    ax = plt.subplot(20,3,n)\n",
    "    data.groupby('de_dt_month')['buy_am'].sum().plot.bar()\n",
    "    plt.title(i)\n",
    "    n += 1 \n",
    "    \n",
    "plt.tight_layout()\n",
    "plt.show()"
   ]
  },
  {
   "cell_type": "code",
   "execution_count": null,
   "id": "6d44a2a2",
   "metadata": {},
   "outputs": [],
   "source": []
  },
  {
   "cell_type": "code",
   "execution_count": 66,
   "id": "1562e6be",
   "metadata": {},
   "outputs": [],
   "source": [
    "# 같은 고객이 같은 날, 같은 제휴사, 같은 시간대에 결제를 다른 방식으로 한다?"
   ]
  },
  {
   "cell_type": "code",
   "execution_count": 67,
   "id": "99f0f77b",
   "metadata": {
    "scrolled": true
   },
   "outputs": [
    {
     "name": "stdout",
     "output_type": "stream",
     "text": [
      "13678 21769\n"
     ]
    }
   ],
   "source": [
    "print(len(list(set(service_use['cust'].unique()) - set(lpay['cust'].unique()))) , len(list(set(service_use['cust'].unique()))))"
   ]
  },
  {
   "cell_type": "code",
   "execution_count": 68,
   "id": "d8bb5896",
   "metadata": {},
   "outputs": [
    {
     "name": "stdout",
     "output_type": "stream",
     "text": [
      "18341 26917\n"
     ]
    }
   ],
   "source": [
    "print(len(list(set(prod_buy['cust'].unique()) - set(lpay['cust'].unique()))) , len(list(set(prod_buy['cust'].unique()))))"
   ]
  },
  {
   "cell_type": "code",
   "execution_count": 69,
   "id": "5638f459",
   "metadata": {},
   "outputs": [
    {
     "name": "stdout",
     "output_type": "stream",
     "text": [
      "248304 248304\n",
      "1266589 1266589\n"
     ]
    }
   ],
   "source": [
    "print(len(list(set(service_use['rct_no'].unique()) - set(lpay['rct_no'].unique()))) , len(list(set(service_use['rct_no'].unique()))))\n",
    "print(len(list(set(prod_buy['rct_no'].unique()) - set(lpay['rct_no'].unique()))) , len(list(set(prod_buy['rct_no'].unique()))))"
   ]
  },
  {
   "cell_type": "code",
   "execution_count": 70,
   "id": "1907ad64",
   "metadata": {},
   "outputs": [],
   "source": [
    "lpay['check'] = lpay['cust'] + lpay['cop_c'] + lpay['de_dt'].astype('str')\n",
    "prod_buy['check'] = prod_buy['cust'] + prod_buy['cop_c'] + prod_buy['de_dt'].astype('str')\n",
    "service_use['check'] = service_use['cust'] + service_use['cop_c'] + service_use['de_dt'].astype('str')"
   ]
  },
  {
   "cell_type": "code",
   "execution_count": 71,
   "id": "1f70f50d",
   "metadata": {},
   "outputs": [
    {
     "name": "stdout",
     "output_type": "stream",
     "text": [
      "183931 211400\n",
      "808477 913394\n"
     ]
    }
   ],
   "source": [
    "print(len(list(set(service_use['check'].unique()) - set(lpay['check'].unique()))) , len(list(set(service_use['check'].unique()))))\n",
    "print(len(list(set(prod_buy['check'].unique()) - set(lpay['check'].unique()))) , len(list(set(prod_buy['check'].unique()))))"
   ]
  },
  {
   "cell_type": "code",
   "execution_count": 72,
   "id": "bb26e594",
   "metadata": {},
   "outputs": [],
   "source": [
    "lpay['check2'] = lpay['cust'] + lpay['cop_c'] + lpay['de_dt'].astype('str') + lpay['de_hr'].astype('str')\n",
    "prod_buy['check2'] = prod_buy['cust'] + prod_buy['cop_c'] + prod_buy['de_dt'].astype('str') + prod_buy['de_hr'].astype('str')\n",
    "service_use['check2'] = service_use['cust'] + service_use['cop_c'] + service_use['de_dt'].astype('str') + service_use['de_hr'].astype('str')"
   ]
  },
  {
   "cell_type": "code",
   "execution_count": 73,
   "id": "6a3dc811",
   "metadata": {},
   "outputs": [
    {
     "name": "stdout",
     "output_type": "stream",
     "text": [
      "199968 228196\n",
      "942214 1057964\n"
     ]
    }
   ],
   "source": [
    "print(len(list(set(service_use['check2'].unique()) - set(lpay['check2'].unique()))) , len(list(set(service_use['check2'].unique()))))\n",
    "print(len(list(set(prod_buy['check2'].unique()) - set(lpay['check2'].unique()))) , len(list(set(prod_buy['check2'].unique()))))"
   ]
  },
  {
   "cell_type": "code",
   "execution_count": 74,
   "id": "ad3035d7",
   "metadata": {},
   "outputs": [],
   "source": [
    "lpay['check3'] = lpay['cust'] + lpay['cop_c'] + lpay['de_dt'].astype('str') + lpay['de_hr'].astype('str') + lpay['buy_am'].astype('str')\n",
    "prod_buy['check3'] = prod_buy['cust'] + prod_buy['cop_c'] + prod_buy['de_dt'].astype('str') + prod_buy['de_hr'].astype('str') + prod_buy['buy_am'].astype('str')\n",
    "service_use['check3'] = service_use['cust'] + service_use['cop_c'] + service_use['de_dt'].astype('str') + service_use['de_hr'].astype('str') + service_use['buy_am'].astype('str')"
   ]
  },
  {
   "cell_type": "code",
   "execution_count": 75,
   "id": "a738e760",
   "metadata": {},
   "outputs": [
    {
     "name": "stdout",
     "output_type": "stream",
     "text": [
      "217555 244731\n",
      "3927161 3927161\n"
     ]
    }
   ],
   "source": [
    "print(len(list(set(service_use['check3'].unique()) - set(lpay['check3'].unique()))) , len(list(set(service_use['check3'].unique()))))\n",
    "print(len(list(set(prod_buy['check3'].unique()) - set(lpay['check3'].unique()))) , len(list(set(prod_buy['check3'].unique()))))"
   ]
  },
  {
   "cell_type": "code",
   "execution_count": null,
   "id": "d7ae3109",
   "metadata": {},
   "outputs": [],
   "source": []
  }
 ],
 "metadata": {
  "kernelspec": {
   "display_name": "Python 3 (ipykernel)",
   "language": "python",
   "name": "python3"
  },
  "language_info": {
   "codemirror_mode": {
    "name": "ipython",
    "version": 3
   },
   "file_extension": ".py",
   "mimetype": "text/x-python",
   "name": "python",
   "nbconvert_exporter": "python",
   "pygments_lexer": "ipython3",
   "version": "3.9.7"
  }
 },
 "nbformat": 4,
 "nbformat_minor": 5
}
