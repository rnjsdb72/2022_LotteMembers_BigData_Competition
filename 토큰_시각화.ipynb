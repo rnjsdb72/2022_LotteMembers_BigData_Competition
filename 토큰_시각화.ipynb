{
  "cells": [
    {
      "cell_type": "code",
      "execution_count": null,
      "metadata": {
        "id": "5iW8Y7oEjPN7"
      },
      "outputs": [],
      "source": [
        "!pip install tika"
      ]
    },
    {
      "cell_type": "code",
      "execution_count": null,
      "metadata": {
        "id": "SXQv_GPAkfz5"
      },
      "outputs": [],
      "source": [
        "!sudo apt-get install -y fonts-nanum\n",
        "!sudo fc-cache -fv\n",
        "!rm ~/.cache/matplotlib -rf"
      ]
    },
    {
      "cell_type": "code",
      "execution_count": null,
      "metadata": {
        "id": "iOpMJhaK4XNy"
      },
      "outputs": [],
      "source": [
        "import numpy as np\n",
        "import pandas as pd\n",
        "import seaborn as sns\n",
        "import matplotlib\n",
        "import matplotlib.pyplot as plt\n",
        "import networkx as nx\n",
        "from matplotlib import font_manager, rc\n",
        "from google.colab import files\n",
        "from tika import parser\n",
        "from wordcloud import WordCloud\n",
        "from collections import Counter"
      ]
    },
    {
      "cell_type": "code",
      "execution_count": null,
      "metadata": {
        "id": "Zo6HWSIj4xxI"
      },
      "outputs": [],
      "source": [
        "app_blog = pd.read_csv(\"/content/drive/MyDrive/Colab Notebooks/lpoint/lpoint_competition/textmining/앱결제_블로그토큰화_ver2.csv\")\n",
        "app_cafe = pd.read_csv(\"/content/drive/MyDrive/Colab Notebooks/lpoint/lpoint_competition/textmining/앱결제_카페토큰화_ver2.csv\")\n",
        "\n",
        "ssg_blog = pd.read_csv(\"/content/drive/MyDrive/Colab Notebooks/lpoint/lpoint_competition/textmining/ssg페이_블로그토큰화_ver2.csv\")\n",
        "ssg_cafe = pd.read_csv(\"/content/drive/MyDrive/Colab Notebooks/lpoint/lpoint_competition/textmining/ssg페이_카페토큰화_ver2.csv\")\n"
      ]
    },
    {
      "cell_type": "code",
      "execution_count": null,
      "metadata": {
        "id": "CM91Gc3S5c82"
      },
      "outputs": [],
      "source": [
        "app_blog = app_blog.loc[:30,[\"단어\",\"빈도\"]]\n",
        "app_blog[\"출처\"] = \"앱결제-블로그\"\n",
        "app_cafe = app_cafe.loc[:30,[\"단어\",\"빈도\"]]\n",
        "app_cafe[\"출처\"] = \"앱결제-카페\"\n",
        "\n",
        "ssg_blog = ssg_blog.loc[:30,[\"단어\",\"빈도\"]]\n",
        "ssg_blog[\"출처\"] = \"ssg페이-블로그\"\n",
        "ssg_cafe = ssg_cafe.loc[:30,[\"단어\",\"빈도\"]]\n",
        "ssg_cafe[\"출처\"] = \"ssg페이-카페\""
      ]
    },
    {
      "cell_type": "code",
      "execution_count": null,
      "metadata": {
        "id": "qjzfxVCU5iOy"
      },
      "outputs": [],
      "source": [
        "df = pd.concat([app_blog, app_cafe, ssg_blog, ssg_cafe], axis = 0).reset_index(drop = True)"
      ]
    },
    {
      "cell_type": "code",
      "execution_count": null,
      "metadata": {
        "id": "zxKYKChD6qHx"
      },
      "outputs": [],
      "source": [
        "g = nx.karate_club_graph()\n",
        "g = nx.from_pandas_edgelist(df, source = '단어', target = '출처')\n",
        "pos = nx.spring_layout(g, k = 0.1, iterations=200)"
      ]
    },
    {
      "cell_type": "code",
      "execution_count": null,
      "metadata": {
        "id": "cojMOS7r9MIm"
      },
      "outputs": [],
      "source": [
        "color_map_node = []\n",
        "for node in g:\n",
        "  if node == '앱결제-블로그':\n",
        "    color_map_node.append('blue')\n",
        "  elif node == '앱결제-카페':\n",
        "    color_map_node.append('red')\n",
        "  elif node == 'ssg페이-블로그':\n",
        "    color_map_node.append('yellow')\n",
        "  elif node == 'ssg페이-카페':\n",
        "    color_map_node.append('green')\n",
        "  else:\n",
        "    color_map_node.append('white')\n",
        "\n",
        "color_map_edge = []\n",
        "for edges in g.edges():\n",
        "    if '앱결제-블로그' in edges:\n",
        "        color_map_edge.append('blue')\n",
        "    if '앱결제-카페' in edges:\n",
        "        color_map_edge.append('red')\n",
        "    if 'ssg페이-블로그' in edges:\n",
        "        color_map_edge.append('yellow')\n",
        "    if 'ssg페이-카페' in edges:\n",
        "        color_map_edge.append('green')\n",
        "\n",
        "plt.figure(figsize=(20, 20))\n",
        "\n",
        "nx.draw_networkx_nodes(g, pos, node_size = 1000, node_color = color_map_node)\n",
        "nx.draw_networkx_edges(g, pos, width=1, edge_color = color_map_edge)\n",
        "nx.draw_networkx_labels(g, pos, font_family='NanumBarunGothic', font_size=20)\n",
        "\n",
        "plt.show()"
      ]
    },
    {
      "cell_type": "code",
      "execution_count": null,
      "metadata": {
        "id": "XHCJ9ib70m2v"
      },
      "outputs": [],
      "source": []
    }
  ],
  "metadata": {
    "colab": {
      "name": "토큰 시각화.ipynb",
      "private_outputs": true,
      "provenance": []
    },
    "kernelspec": {
      "display_name": "Python 3",
      "name": "python3"
    },
    "language_info": {
      "name": "python"
    }
  },
  "nbformat": 4,
  "nbformat_minor": 0
}
